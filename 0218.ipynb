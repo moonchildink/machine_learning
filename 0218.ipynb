{
 "cells": [
  {
   "cell_type": "code",
   "execution_count": 113,
   "outputs": [],
   "source": [
    "import numpy as np\n",
    "import pandas as pd\n",
    "import matplotlib.pyplot as plt\n",
    "\n",
    "plt.rcParams[\"font.sans-serif\"] = [\"SimHei\"]  #设置字体\n",
    "plt.rcParams[\"axes.unicode_minus\"] = False  #该语句解决图像中的“-”负号的乱码问题\n",
    "import os"
   ],
   "metadata": {
    "collapsed": false
   }
  },
  {
   "cell_type": "code",
   "execution_count": 0,
   "outputs": [],
   "source": [
    "os.chdir(r'D:\\pycharm-python\\datasets')\n",
    "df = pd.read_csv(r'城市数据.csv')\n",
    "df.info()"
   ],
   "metadata": {
    "collapsed": false
   }
  },
  {
   "cell_type": "code",
   "execution_count": 205,
   "outputs": [],
   "source": [
    "df = df.drop(['Unnamed: 8', 'Unnamed: 9', 'Unnamed: 10'], axis=1)\n",
    "df = df.dropna()"
   ],
   "metadata": {
    "collapsed": false
   }
  },
  {
   "cell_type": "code",
   "execution_count": 0,
   "outputs": [],
   "source": [
    "df.columns = ['Province', 'City', 'DN', 'GDP', 'PopDenity', 'Urban_rate', 'Cars', 'Elec']\n",
    "df.head()"
   ],
   "metadata": {
    "collapsed": false
   }
  },
  {
   "cell_type": "code",
   "execution_count": 331,
   "outputs": [
    {
     "data": {
      "text/plain": "    Province City      GDP  PopDenity  Urban_rate      Cars    Elec       DN\n0        重庆市  渝中区   362.38   23222.00       93.18    4.1205    5.50   310.49\n1        重庆市  大足区   286.02    1337.00       50.94    4.8136    3.27    31.47\n2        重庆市  开州区   131.03    1364.00       44.23    9.9600   12.52    18.16\n3        重庆市  城口县    68.37      66.00       30.54    0.9496    1.68     7.15\n4        浙江省  杭州市  1404.70    2045.00       85.87  106.0000  335.90  2147.46\n..       ...  ...      ...        ...         ...       ...     ...      ...\n118      北京市  延庆区    53.21     205.62       35.21    2.5500   12.20    15.74\n119      安徽省  合肥市  1125.46    1462.73       59.22  124.5900  344.83   856.36\n120      安徽省  安庆市   294.22     365.68       41.18   30.3800  107.92   236.13\n121      安徽省  宣城市   180.78     192.17       38.58   20.7900  124.70   104.23\n122      安徽省  池州市   191.37     402.41       43.11   13.6500   66.70    49.91\n\n[123 rows x 8 columns]",
      "text/html": "<div>\n<style scoped>\n    .dataframe tbody tr th:only-of-type {\n        vertical-align: middle;\n    }\n\n    .dataframe tbody tr th {\n        vertical-align: top;\n    }\n\n    .dataframe thead th {\n        text-align: right;\n    }\n</style>\n<table border=\"1\" class=\"dataframe\">\n  <thead>\n    <tr style=\"text-align: right;\">\n      <th></th>\n      <th>Province</th>\n      <th>City</th>\n      <th>GDP</th>\n      <th>PopDenity</th>\n      <th>Urban_rate</th>\n      <th>Cars</th>\n      <th>Elec</th>\n      <th>DN</th>\n    </tr>\n  </thead>\n  <tbody>\n    <tr>\n      <th>0</th>\n      <td>重庆市</td>\n      <td>渝中区</td>\n      <td>362.38</td>\n      <td>23222.00</td>\n      <td>93.18</td>\n      <td>4.1205</td>\n      <td>5.50</td>\n      <td>310.49</td>\n    </tr>\n    <tr>\n      <th>1</th>\n      <td>重庆市</td>\n      <td>大足区</td>\n      <td>286.02</td>\n      <td>1337.00</td>\n      <td>50.94</td>\n      <td>4.8136</td>\n      <td>3.27</td>\n      <td>31.47</td>\n    </tr>\n    <tr>\n      <th>2</th>\n      <td>重庆市</td>\n      <td>开州区</td>\n      <td>131.03</td>\n      <td>1364.00</td>\n      <td>44.23</td>\n      <td>9.9600</td>\n      <td>12.52</td>\n      <td>18.16</td>\n    </tr>\n    <tr>\n      <th>3</th>\n      <td>重庆市</td>\n      <td>城口县</td>\n      <td>68.37</td>\n      <td>66.00</td>\n      <td>30.54</td>\n      <td>0.9496</td>\n      <td>1.68</td>\n      <td>7.15</td>\n    </tr>\n    <tr>\n      <th>4</th>\n      <td>浙江省</td>\n      <td>杭州市</td>\n      <td>1404.70</td>\n      <td>2045.00</td>\n      <td>85.87</td>\n      <td>106.0000</td>\n      <td>335.90</td>\n      <td>2147.46</td>\n    </tr>\n    <tr>\n      <th>...</th>\n      <td>...</td>\n      <td>...</td>\n      <td>...</td>\n      <td>...</td>\n      <td>...</td>\n      <td>...</td>\n      <td>...</td>\n      <td>...</td>\n    </tr>\n    <tr>\n      <th>118</th>\n      <td>北京市</td>\n      <td>延庆区</td>\n      <td>53.21</td>\n      <td>205.62</td>\n      <td>35.21</td>\n      <td>2.5500</td>\n      <td>12.20</td>\n      <td>15.74</td>\n    </tr>\n    <tr>\n      <th>119</th>\n      <td>安徽省</td>\n      <td>合肥市</td>\n      <td>1125.46</td>\n      <td>1462.73</td>\n      <td>59.22</td>\n      <td>124.5900</td>\n      <td>344.83</td>\n      <td>856.36</td>\n    </tr>\n    <tr>\n      <th>120</th>\n      <td>安徽省</td>\n      <td>安庆市</td>\n      <td>294.22</td>\n      <td>365.68</td>\n      <td>41.18</td>\n      <td>30.3800</td>\n      <td>107.92</td>\n      <td>236.13</td>\n    </tr>\n    <tr>\n      <th>121</th>\n      <td>安徽省</td>\n      <td>宣城市</td>\n      <td>180.78</td>\n      <td>192.17</td>\n      <td>38.58</td>\n      <td>20.7900</td>\n      <td>124.70</td>\n      <td>104.23</td>\n    </tr>\n    <tr>\n      <th>122</th>\n      <td>安徽省</td>\n      <td>池州市</td>\n      <td>191.37</td>\n      <td>402.41</td>\n      <td>43.11</td>\n      <td>13.6500</td>\n      <td>66.70</td>\n      <td>49.91</td>\n    </tr>\n  </tbody>\n</table>\n<p>123 rows × 8 columns</p>\n</div>"
     },
     "execution_count": 331,
     "metadata": {},
     "output_type": "execute_result"
    }
   ],
   "source": [
    "df"
   ],
   "metadata": {
    "collapsed": false
   }
  },
  {
   "cell_type": "code",
   "execution_count": 334,
   "outputs": [],
   "source": [
    "# df.info()\n",
    "df.to_csv(r'0219_train_data.csv')"
   ],
   "metadata": {
    "collapsed": false
   }
  },
  {
   "cell_type": "code",
   "execution_count": 12,
   "outputs": [],
   "source": [
    "\n",
    "import seaborn as sns\n",
    "\n",
    "sns.set_theme(style='whitegrid')"
   ],
   "metadata": {
    "collapsed": false
   }
  },
  {
   "cell_type": "code",
   "execution_count": 207,
   "outputs": [
    {
     "data": {
      "text/plain": "  Province City      GDP  PopDenity  Urban_rate      Cars    Elec       DN\n0      重庆市  渝中区   362.38    23222.0       93.18    4.1205    5.50   310.49\n1      重庆市  大足区   286.02     1337.0       50.94    4.8136    3.27    31.47\n2      重庆市  开州区   131.03     1364.0       44.23    9.9600   12.52    18.16\n3      重庆市  城口县    68.37       66.0       30.54    0.9496    1.68     7.15\n4      浙江省  杭州市  1404.70     2045.0       85.87  106.0000  335.90  2147.46",
      "text/html": "<div>\n<style scoped>\n    .dataframe tbody tr th:only-of-type {\n        vertical-align: middle;\n    }\n\n    .dataframe tbody tr th {\n        vertical-align: top;\n    }\n\n    .dataframe thead th {\n        text-align: right;\n    }\n</style>\n<table border=\"1\" class=\"dataframe\">\n  <thead>\n    <tr style=\"text-align: right;\">\n      <th></th>\n      <th>Province</th>\n      <th>City</th>\n      <th>GDP</th>\n      <th>PopDenity</th>\n      <th>Urban_rate</th>\n      <th>Cars</th>\n      <th>Elec</th>\n      <th>DN</th>\n    </tr>\n  </thead>\n  <tbody>\n    <tr>\n      <th>0</th>\n      <td>重庆市</td>\n      <td>渝中区</td>\n      <td>362.38</td>\n      <td>23222.0</td>\n      <td>93.18</td>\n      <td>4.1205</td>\n      <td>5.50</td>\n      <td>310.49</td>\n    </tr>\n    <tr>\n      <th>1</th>\n      <td>重庆市</td>\n      <td>大足区</td>\n      <td>286.02</td>\n      <td>1337.0</td>\n      <td>50.94</td>\n      <td>4.8136</td>\n      <td>3.27</td>\n      <td>31.47</td>\n    </tr>\n    <tr>\n      <th>2</th>\n      <td>重庆市</td>\n      <td>开州区</td>\n      <td>131.03</td>\n      <td>1364.0</td>\n      <td>44.23</td>\n      <td>9.9600</td>\n      <td>12.52</td>\n      <td>18.16</td>\n    </tr>\n    <tr>\n      <th>3</th>\n      <td>重庆市</td>\n      <td>城口县</td>\n      <td>68.37</td>\n      <td>66.0</td>\n      <td>30.54</td>\n      <td>0.9496</td>\n      <td>1.68</td>\n      <td>7.15</td>\n    </tr>\n    <tr>\n      <th>4</th>\n      <td>浙江省</td>\n      <td>杭州市</td>\n      <td>1404.70</td>\n      <td>2045.0</td>\n      <td>85.87</td>\n      <td>106.0000</td>\n      <td>335.90</td>\n      <td>2147.46</td>\n    </tr>\n  </tbody>\n</table>\n</div>"
     },
     "execution_count": 207,
     "metadata": {},
     "output_type": "execute_result"
    }
   ],
   "source": [
    "order = ['Province', 'City', 'GDP', 'PopDenity', 'Urban_rate', 'Cars', 'Elec', 'DN']\n",
    "df = df[order]\n",
    "df.head()"
   ],
   "metadata": {
    "collapsed": false
   }
  },
  {
   "cell_type": "code",
   "execution_count": 126,
   "outputs": [
    {
     "name": "stderr",
     "output_type": "stream",
     "text": [
      "C:\\Users\\29236\\AppData\\Local\\Temp\\ipykernel_5268\\361440739.py:1: FutureWarning: The default value of numeric_only in DataFrame.corr is deprecated. In a future version, it will default to False. Select only valid columns or specify the value of numeric_only to silence this warning.\n",
      "  corr = df.corr()\n"
     ]
    }
   ],
   "source": [
    "corr = df.corr()"
   ],
   "metadata": {
    "collapsed": false
   }
  },
  {
   "cell_type": "code",
   "execution_count": 127,
   "outputs": [
    {
     "data": {
      "text/plain": "Text(0.5, 1.0, '光照度(DN)与主要经济指标之间的相关系数热力图')"
     },
     "execution_count": 127,
     "metadata": {},
     "output_type": "execute_result"
    },
    {
     "data": {
      "text/plain": "<Figure size 1000x800 with 2 Axes>",
      "image/png": "[encoded data removed]"
     },
     "metadata": {},
     "output_type": "display_data"
    }
   ],
   "source": [
    "plt.figure(figsize=(10, 8))\n",
    "sns.heatmap(corr, annot=True, cmap='BuGn')\n",
    "plt.title('光照度(DN)与主要经济指标之间的相关系数热力图')"
   ],
   "metadata": {
    "collapsed": false
   }
  },
  {
   "cell_type": "markdown",
   "source": [
    "### 导入目标数据集"
   ],
   "metadata": {
    "collapsed": false
   }
  },
  {
   "cell_type": "markdown",
   "source": [
    "#### 可以使用的方法：\n",
    "+ 探索性因子分析"
   ],
   "metadata": {
    "collapsed": false
   }
  },
  {
   "cell_type": "code",
   "execution_count": 132,
   "outputs": [
    {
     "data": {
      "text/plain": "array([[362.38, 23222.0, 93.18, 4.1205, 5.5, 310.49],\n       [286.02, 1337.0, 50.94, 4.8136, 3.27, 31.47],\n       [131.03, 1364.0, 44.23, 9.96, 12.52, 18.16],\n       [68.37, 66.0, 30.54, 0.9496, 1.68, 7.15],\n       [1404.7, 2045.0, 85.87, 106.0, 335.9, 2147.46],\n       [914.28, 735.0, 71.1, 77.0, 139.55, 463.45],\n       [603.39, 462.0, 56.95, 51.0, 99.58, 186.71],\n       [370.17, 316.0, 47.87, 37.9, 60.36, 125.47],\n       [530.9, 253.0, 57.7, 93.3, 93.68, 612.45],\n       [276.68, 122.0, 47.1, 28.6, 37.05, 172.44],\n       [162.95, 90.0, 37.7, 12.2, 10.27, 56.24],\n       [75.86, 25.0, 26.3, 6.1, 7.03, 33.08],\n       [451.6, 266.0, 68.6, 284.7, 124.7, 650.77],\n       [222.0, 38.0, 43.7, 27.3, 19.5, 173.2],\n       [284.09, 5.5, 29.16, 11.2141, 28.17, 82.48],\n       [21.39, 3.48, 58.54, 14.0, 3.77, 48.13],\n       [112.47, 30.0, 15.68, 4.6, 2.09, 208.84],\n       [138.1, 44.0, 23.28, 0.8383, 5.63, 139.4],\n       [1724.95, 152.0, 47.08, 7.2441, 39.11, 103.93],\n       [188.7, 16.9, 35.7, 0.6779, 4.87, 69.55],\n       [580.57, 28700.0, 100.0, 11.1319, 27.31, 447.95],\n       [2652.85, 1206.0, 84.6, 12.08, 25.3, 166.54],\n       [2588.58, 557.0, 73.4, 19.48, 35.5, 31.35],\n       [205.55, 136.0, 53.4, 3.08, 1.04, 16.39],\n       [15331.8, 751.0, 79.2, 618.6, 378.3, 2335.94],\n       [610.71, 368.0, 60.1, 50.59, 8.85, 217.63],\n       [621.29, 363.0, 67.1, 58.09, 14.7, 171.28],\n       [274.12, 243.0, 54.5, 24.92, 4.28, 74.71],\n       [2270.31, 32000.0, 100.0, 26.09, 16.75, 788.15],\n       [1068.13, 21700.0, 100.0, 209.87, 48.85, 322.23],\n       [427.37, 11400.0, 100.0, 94.87, 18.55, 169.89],\n       [54.15, 580.0, 45.4, 8.07, 1.17, 30.18],\n       [10033.7, 927.0, 61.2, 225.0, 1549.0, 2132.38],\n       [359.3, 130.0, 41.6, 51.4, 80.2, 186.42],\n       [371.2, 143.0, 38.1, 38.6, 59.5, 133.49],\n       [227.3, 198.0, 55.7, 30.4, 48.5, 58.8],\n       [526.6, 633.0, 52.8, 157.3, 179.2, 841.2],\n       [5024.82, 199.0, 38.94, 324.5, 132.3, 198.12],\n       [2597.24, 212.29, 45.4, 21.49, 46.43, 155.6],\n       [1414.38, 322.75, 52.9, 15.22, 26.86, 55.75],\n       [10515.1, 859.49, 83.6, 205.0, 334.0, 1253.38],\n       [3125.28, 485.75, 69.8, 217.0, 127.0, 273.61],\n       [1515.3, 244.24, 52.6, 165.0, 78.0, 136.71],\n       [2695.55, 389.04, 53.3, 108.0, 45.0, 93.61],\n       [475.0, 215.0, 58.5, 93.0, 50.0, 538.87],\n       [266.0, 48.0, 40.4, 19.0, 9.0, 132.58],\n       [84.0, 4.0, 26.8, 1.5, 1.7, 86.52],\n       [71.0, 3.0, 34.4, 1.4, 7.5, 31.02],\n       [393.48, 347.0, 68.7, 179.3, 119.0, 367.64],\n       [101.42, 79.0, 37.5, 34.7, 34.7, 72.99],\n       [190.03, 32.72, 55.4, 85.4, 46.5, 72.76],\n       [75.03, 3.95, 59.5, 32.6, 21.8, 38.06],\n       [399.54, 151.6, 60.9, 206.5, 96.6, 775.52],\n       [492.15, 17.5, 71.7, 223.5, 138.8, 133.33],\n       [274.67, 1.56, 50.6, 31.4, 48.2, 97.4],\n       [39.22, 0.74, 48.6, 6.8, 7.8, 46.19],\n       [747.57, 286.3, 73.6, 272.8, 200.9, 2179.12],\n       [182.14, 61.44, 60.6, 103.5, 48.8, 313.93],\n       [157.78, 67.39, 62.5, 68.9, 30.3, 158.46],\n       [130.78, 144.45, 59.5, 106.9, 30.8, 60.67],\n       [758.17, 529.92, 65.1, 391.7, 132.9, 1078.4],\n       [204.68, 190.15, 44.5, 52.4, 22.5, 199.43],\n       [204.19, 213.58, 53.6, 56.5, 18.5, 164.36],\n       [97.79, 197.1, 52.9, 40.8, 9.7, 38.0],\n       [1637.1, 1614.8, 81.5, 102.9, 209.8, 1789.51],\n       [460.84, 848.33, 59.2, 289.6, 91.3, 609.48],\n       [432.19, 341.38, 61.9, 214.4, 29.6, 284.46],\n       [272.12, 286.29, 50.7, 104.8, 29.6, 114.34],\n       [285.64, 123.87, 56.6, 114.5, 33.1, 430.93],\n       [283.39, 60.23, 48.2, 42.8, 17.2, 99.45],\n       [106.68, 197.77, 51.8, 35.5, 10.2, 61.52],\n       [146.47, 63.63, 51.9, 46.8, 14.3, 43.61],\n       [1026.6, 405.36, 74.3, 141.3, 162.9, 974.47],\n       [215.12, 110.08, 40.6, 102.8, 51.8, 227.74],\n       [277.38, 158.69, 38.9, 83.2, 27.5, 148.8],\n       [113.19, 97.62, 49.1, 52.8, 10.6, 57.97],\n       [1523.6, 947.56, 84.9, 253.0, 374.0, 2368.89],\n       [142.15, 49.19, 38.2, 3.36, 30.62, 149.76],\n       [305.38, 304.64, 43.6, 36.2, 132.0, 99.47],\n       [157.1, 238.24, 47.8, 26.7, 42.25, 33.36],\n       [774.35, 91.91, 65.86, 182.6, 238.7, 598.34],\n       [201.43, 35.45, 50.72, 38.3, 73.4, 236.68],\n       [272.0, 121.98, 58.14, 32.7, 29.9, 79.01],\n       [127.0, 9.0, 53.8, 37.9, 30.8, 32.99],\n       [1397.85, 698.45, 62.36, 265.8, 244.2, 1205.0],\n       [380.22, 193.56, 47.85, 144.2, 193.87, 246.21],\n       [193.36, 92.43, 50.87, 53.55, 119.3, 153.25],\n       [193.21, 305.04, 58.37, 52.56, 55.99, 117.26],\n       [580.94, 520.75, 64.11, 323.16, 146.94, 1234.2],\n       [460.79, 287.24, 43.33, 208.63, 25.67, 503.52],\n       [362.43, 184.64, 52.53, 60.87, 147.49, 198.66],\n       [295.07, 191.18, 44.68, 56.46, 152.8, 120.76],\n       [87.05, 61.46, 39.04, 32.49, 1.44, 238.05],\n       [472.6, 1233.5, 63.72, 65.09, 5.68, 166.91],\n       [150.76, 1770.05, 68.22, 13.89, 1.28, 136.44],\n       [512.61, 198.39, 46.27, 124.17, 14.35, 605.73],\n       [312.43, 87.98, 38.76, 38.95, 6.59, 374.44],\n       [165.69, 40.89, 38.94, 25.37, 4.3, 176.43],\n       [101.55, 183.75, 46.25, 25.14, 3.0, 107.74],\n       [370.05, 159.29, 38.04, 3.073, 38.02, 511.57],\n       [188.29, 104.67, 38.56, 12.68, 14.33, 201.89],\n       [86.63, 111.02, 48.08, 13.54, 5.85, 72.39],\n       [76.95, 83.14, 38.92, 6.87, 3.47, 49.35],\n       [2423.78, 5517.43, 100.0, 347.13, 917.23, 2329.18],\n       [209.16, 1079.36, 58.14, 57.18, 281.78, 325.79],\n       [132.44, 214.72, 44.22, 29.11, 282.444, 128.72],\n       [92.33, 238.87, 44.9, 18.33, 68.449, 66.55],\n       [368.48, 1578.46, 57.62, 52.75, 102.85, 594.22],\n       [77.58, 5.51, 28.16, 5.64, 42.89, 103.12],\n       [111.24, 97.19, 45.35, 19.67, 5.13, 60.54],\n       [44.17, 65.51, 54.31, 9.84, 40.79, 29.67],\n       [585.12, 1184.31, 57.01, 69.33, 9.303, 2168.09],\n       [198.67, 619.94, 48.2, 32.41, 2.7742, 462.78],\n       [182.07, 352.88, 46.31, 36.07, 2.0227, 179.56],\n       [114.25, 265.03, 42.51, 20.21, 1.1217, 143.68],\n       [361.37, 37474.66, 100.0, 10.93, 48.05, 381.47],\n       [361.37, 13204.26, 100.0, 84.23, 145.9, 164.29],\n       [176.03, 1029.08, 68.18, 15.33, 70.5, 38.05],\n       [53.21, 205.62, 35.21, 2.55, 12.2, 15.74],\n       [1125.46, 1462.73, 59.22, 124.59, 344.83, 856.36],\n       [294.22, 365.68, 41.18, 30.38, 107.92, 236.13],\n       [180.78, 192.17, 38.58, 20.79, 124.7, 104.23],\n       [191.37, 402.41, 43.11, 13.65, 66.7, 49.91]], dtype=object)"
     },
     "execution_count": 132,
     "metadata": {},
     "output_type": "execute_result"
    }
   ],
   "source": [
    "arr = np.array(df)[:, 2:]\n",
    "arr"
   ],
   "metadata": {
    "collapsed": false
   }
  },
  {
   "cell_type": "markdown",
   "source": [
    "*0-5列为自变量，第六列为因变量，也就是target*"
   ],
   "metadata": {
    "collapsed": false
   }
  },
  {
   "cell_type": "code",
   "execution_count": 133,
   "outputs": [],
   "source": [
    "x = arr[:, :5].copy()\n",
    "y = arr[:, 5:].copy()"
   ],
   "metadata": {
    "collapsed": false
   }
  },
  {
   "cell_type": "code",
   "execution_count": 330,
   "outputs": [
    {
     "data": {
      "text/plain": "array([[362.38, 23222.0, 93.18, 4.1205, 5.5],\n       [286.02, 1337.0, 50.94, 4.8136, 3.27],\n       [131.03, 1364.0, 44.23, 9.96, 12.52],\n       [68.37, 66.0, 30.54, 0.9496, 1.68],\n       [1404.7, 2045.0, 85.87, 106.0, 335.9],\n       [914.28, 735.0, 71.1, 77.0, 139.55],\n       [603.39, 462.0, 56.95, 51.0, 99.58],\n       [370.17, 316.0, 47.87, 37.9, 60.36],\n       [530.9, 253.0, 57.7, 93.3, 93.68],\n       [276.68, 122.0, 47.1, 28.6, 37.05],\n       [162.95, 90.0, 37.7, 12.2, 10.27],\n       [75.86, 25.0, 26.3, 6.1, 7.03],\n       [451.6, 266.0, 68.6, 284.7, 124.7],\n       [222.0, 38.0, 43.7, 27.3, 19.5],\n       [284.09, 5.5, 29.16, 11.2141, 28.17],\n       [21.39, 3.48, 58.54, 14.0, 3.77],\n       [112.47, 30.0, 15.68, 4.6, 2.09],\n       [138.1, 44.0, 23.28, 0.8383, 5.63],\n       [1724.95, 152.0, 47.08, 7.2441, 39.11],\n       [188.7, 16.9, 35.7, 0.6779, 4.87],\n       [580.57, 28700.0, 100.0, 11.1319, 27.31],\n       [2652.85, 1206.0, 84.6, 12.08, 25.3],\n       [2588.58, 557.0, 73.4, 19.48, 35.5],\n       [205.55, 136.0, 53.4, 3.08, 1.04],\n       [15331.8, 751.0, 79.2, 618.6, 378.3],\n       [610.71, 368.0, 60.1, 50.59, 8.85],\n       [621.29, 363.0, 67.1, 58.09, 14.7],\n       [274.12, 243.0, 54.5, 24.92, 4.28],\n       [2270.31, 32000.0, 100.0, 26.09, 16.75],\n       [1068.13, 21700.0, 100.0, 209.87, 48.85],\n       [427.37, 11400.0, 100.0, 94.87, 18.55],\n       [54.15, 580.0, 45.4, 8.07, 1.17],\n       [10033.7, 927.0, 61.2, 225.0, 1549.0],\n       [359.3, 130.0, 41.6, 51.4, 80.2],\n       [371.2, 143.0, 38.1, 38.6, 59.5],\n       [227.3, 198.0, 55.7, 30.4, 48.5],\n       [526.6, 633.0, 52.8, 157.3, 179.2],\n       [5024.82, 199.0, 38.94, 324.5, 132.3],\n       [2597.24, 212.29, 45.4, 21.49, 46.43],\n       [1414.38, 322.75, 52.9, 15.22, 26.86],\n       [10515.1, 859.49, 83.6, 205.0, 334.0],\n       [3125.28, 485.75, 69.8, 217.0, 127.0],\n       [1515.3, 244.24, 52.6, 165.0, 78.0],\n       [2695.55, 389.04, 53.3, 108.0, 45.0],\n       [475.0, 215.0, 58.5, 93.0, 50.0],\n       [266.0, 48.0, 40.4, 19.0, 9.0],\n       [84.0, 4.0, 26.8, 1.5, 1.7],\n       [71.0, 3.0, 34.4, 1.4, 7.5],\n       [393.48, 347.0, 68.7, 179.3, 119.0],\n       [101.42, 79.0, 37.5, 34.7, 34.7],\n       [190.03, 32.72, 55.4, 85.4, 46.5],\n       [75.03, 3.95, 59.5, 32.6, 21.8],\n       [399.54, 151.6, 60.9, 206.5, 96.6],\n       [492.15, 17.5, 71.7, 223.5, 138.8],\n       [274.67, 1.56, 50.6, 31.4, 48.2],\n       [39.22, 0.74, 48.6, 6.8, 7.8],\n       [747.57, 286.3, 73.6, 272.8, 200.9],\n       [182.14, 61.44, 60.6, 103.5, 48.8],\n       [157.78, 67.39, 62.5, 68.9, 30.3],\n       [130.78, 144.45, 59.5, 106.9, 30.8],\n       [758.17, 529.92, 65.1, 391.7, 132.9],\n       [204.68, 190.15, 44.5, 52.4, 22.5],\n       [204.19, 213.58, 53.6, 56.5, 18.5],\n       [97.79, 197.1, 52.9, 40.8, 9.7],\n       [1637.1, 1614.8, 81.5, 102.9, 209.8],\n       [460.84, 848.33, 59.2, 289.6, 91.3],\n       [432.19, 341.38, 61.9, 214.4, 29.6],\n       [272.12, 286.29, 50.7, 104.8, 29.6],\n       [285.64, 123.87, 56.6, 114.5, 33.1],\n       [283.39, 60.23, 48.2, 42.8, 17.2],\n       [106.68, 197.77, 51.8, 35.5, 10.2],\n       [146.47, 63.63, 51.9, 46.8, 14.3],\n       [1026.6, 405.36, 74.3, 141.3, 162.9],\n       [215.12, 110.08, 40.6, 102.8, 51.8],\n       [277.38, 158.69, 38.9, 83.2, 27.5],\n       [113.19, 97.62, 49.1, 52.8, 10.6],\n       [1523.6, 947.56, 84.9, 253.0, 374.0],\n       [142.15, 49.19, 38.2, 3.36, 30.62],\n       [305.38, 304.64, 43.6, 36.2, 132.0],\n       [157.1, 238.24, 47.8, 26.7, 42.25],\n       [774.35, 91.91, 65.86, 182.6, 238.7],\n       [201.43, 35.45, 50.72, 38.3, 73.4],\n       [272.0, 121.98, 58.14, 32.7, 29.9],\n       [127.0, 9.0, 53.8, 37.9, 30.8],\n       [1397.85, 698.45, 62.36, 265.8, 244.2],\n       [380.22, 193.56, 47.85, 144.2, 193.87],\n       [193.36, 92.43, 50.87, 53.55, 119.3],\n       [193.21, 305.04, 58.37, 52.56, 55.99],\n       [580.94, 520.75, 64.11, 323.16, 146.94],\n       [460.79, 287.24, 43.33, 208.63, 25.67],\n       [362.43, 184.64, 52.53, 60.87, 147.49],\n       [295.07, 191.18, 44.68, 56.46, 152.8],\n       [87.05, 61.46, 39.04, 32.49, 1.44],\n       [472.6, 1233.5, 63.72, 65.09, 5.68],\n       [150.76, 1770.05, 68.22, 13.89, 1.28],\n       [512.61, 198.39, 46.27, 124.17, 14.35],\n       [312.43, 87.98, 38.76, 38.95, 6.59],\n       [165.69, 40.89, 38.94, 25.37, 4.3],\n       [101.55, 183.75, 46.25, 25.14, 3.0],\n       [370.05, 159.29, 38.04, 3.073, 38.02],\n       [188.29, 104.67, 38.56, 12.68, 14.33],\n       [86.63, 111.02, 48.08, 13.54, 5.85],\n       [76.95, 83.14, 38.92, 6.87, 3.47],\n       [2423.78, 5517.43, 100.0, 347.13, 917.23],\n       [209.16, 1079.36, 58.14, 57.18, 281.78],\n       [132.44, 214.72, 44.22, 29.11, 282.444],\n       [92.33, 238.87, 44.9, 18.33, 68.449],\n       [368.48, 1578.46, 57.62, 52.75, 102.85],\n       [77.58, 5.51, 28.16, 5.64, 42.89],\n       [111.24, 97.19, 45.35, 19.67, 5.13],\n       [44.17, 65.51, 54.31, 9.84, 40.79],\n       [585.12, 1184.31, 57.01, 69.33, 9.303],\n       [198.67, 619.94, 48.2, 32.41, 2.7742],\n       [182.07, 352.88, 46.31, 36.07, 2.0227],\n       [114.25, 265.03, 42.51, 20.21, 1.1217],\n       [361.37, 37474.66, 100.0, 10.93, 48.05],\n       [361.37, 13204.26, 100.0, 84.23, 145.9],\n       [176.03, 1029.08, 68.18, 15.33, 70.5],\n       [53.21, 205.62, 35.21, 2.55, 12.2],\n       [1125.46, 1462.73, 59.22, 124.59, 344.83],\n       [294.22, 365.68, 41.18, 30.38, 107.92],\n       [180.78, 192.17, 38.58, 20.79, 124.7],\n       [191.37, 402.41, 43.11, 13.65, 66.7]], dtype=object)"
     },
     "execution_count": 330,
     "metadata": {},
     "output_type": "execute_result"
    }
   ],
   "source": [
    "x"
   ],
   "metadata": {
    "collapsed": false
   }
  },
  {
   "cell_type": "code",
   "execution_count": 329,
   "outputs": [
    {
     "data": {
      "text/plain": "array([ 310,   31,   18,    7, 2147,  463,  186,  125,  612,  172,   56,\n         33,  650,  173,   82,   48,  208,  139,  103,   69,  447,  166,\n         31,   16, 2335,  217,  171,   74,  788,  322,  169,   30, 2132,\n        186,  133,   58,  841,  198,  155,   55, 1253,  273,  136,   93,\n        538,  132,   86,   31,  367,   72,   72,   38,  775,  133,   97,\n         46, 2179,  313,  158,   60, 1078,  199,  164,   38, 1789,  609,\n        284,  114,  430,   99,   61,   43,  974,  227,  148,   57, 2368,\n        149,   99,   33,  598,  236,   79,   32, 1205,  246,  153,  117,\n       1234,  503,  198,  120,  238,  166,  136,  605,  374,  176,  107,\n        511,  201,   72,   49, 2329,  325,  128,   66,  594,  103,   60,\n         29, 2168,  462,  179,  143,  381,  164,   38,   15,  856,  236,\n        104,   49])"
     },
     "execution_count": 329,
     "metadata": {},
     "output_type": "execute_result"
    }
   ],
   "source": [
    "y"
   ],
   "metadata": {
    "collapsed": false
   }
  },
  {
   "cell_type": "code",
   "execution_count": 136,
   "outputs": [
    {
     "data": {
      "text/plain": "[[array([  2,   3,   4,   6,   8,   9,  10,  11,  12,  13,  15,  17,  18,\n          19,  20,  21,  22,  23,  24,  25,  26,  27,  28,  29,  30,  31,\n          32,  33,  34,  37,  38,  40,  41,  42,  43,  46,  47,  49,  50,\n          51,  53,  54,  55,  56,  58,  59,  60,  61,  62,  64,  66,  68,\n          69,  70,  71,  72,  73,  74,  75,  76,  77,  78,  79,  81,  83,\n          84,  86,  87,  88,  89,  90,  91,  92,  93,  94,  95,  96,  97,\n         100, 101, 102, 103, 104, 105, 106, 107, 109, 110, 112, 113, 115,\n         116, 117, 118, 119, 120, 121, 122]),\n  array([  0,   1,   5,   7,  14,  16,  35,  36,  39,  44,  45,  48,  52,\n          57,  63,  65,  67,  80,  82,  85,  98,  99, 108, 111, 114])],\n [array([  0,   1,   2,   3,   4,   5,   6,   7,   8,   9,  10,  12,  13,\n          14,  15,  16,  17,  18,  19,  21,  22,  23,  24,  25,  26,  27,\n          28,  29,  30,  34,  35,  36,  37,  38,  39,  40,  41,  43,  44,\n          45,  46,  48,  49,  50,  51,  52,  54,  55,  56,  57,  58,  59,\n          60,  61,  62,  63,  64,  65,  67,  69,  71,  72,  73,  74,  76,\n          77,  78,  79,  80,  81,  82,  84,  85,  87,  88,  89,  90,  91,\n          92,  93,  94,  95,  97,  98,  99, 102, 104, 107, 108, 109, 111,\n         113, 114, 117, 119, 120, 121, 122]),\n  array([ 11,  20,  31,  32,  33,  42,  47,  53,  66,  68,  70,  75,  83,\n          86,  96, 100, 101, 103, 105, 106, 110, 112, 115, 116, 118])],\n [array([  0,   1,   2,   3,   4,   5,   6,   7,   8,   9,  11,  14,  16,\n          18,  20,  21,  22,  23,  24,  25,  26,  27,  28,  29,  30,  31,\n          32,  33,  34,  35,  36,  39,  41,  42,  43,  44,  45,  46,  47,\n          48,  50,  51,  52,  53,  54,  56,  57,  59,  60,  61,  62,  63,\n          64,  65,  66,  67,  68,  69,  70,  71,  72,  73,  75,  77,  78,\n          80,  82,  83,  85,  86,  87,  88,  90,  91,  92,  93,  95,  96,\n          98,  99, 100, 101, 103, 104, 105, 106, 108, 109, 110, 111, 112,\n         113, 114, 115, 116, 118, 121, 122]),\n  array([ 10,  12,  13,  15,  17,  19,  37,  38,  40,  49,  55,  58,  74,\n          76,  79,  81,  84,  89,  94,  97, 102, 107, 117, 119, 120])],\n [array([  0,   1,   2,   4,   5,   6,   7,   8,  10,  11,  12,  13,  14,\n          15,  16,  17,  19,  20,  27,  29,  31,  32,  33,  34,  35,  36,\n          37,  38,  39,  40,  41,  42,  44,  45,  47,  48,  49,  50,  52,\n          53,  55,  57,  58,  59,  60,  61,  63,  64,  65,  66,  67,  68,\n          70,  71,  72,  73,  74,  75,  76,  77,  78,  79,  80,  81,  82,\n          83,  84,  85,  86,  89,  93,  94,  95,  96,  97,  98,  99, 100,\n         101, 102, 103, 104, 105, 106, 107, 108, 109, 110, 111, 112, 113,\n         114, 115, 116, 117, 118, 119, 120, 122]),\n  array([  3,   9,  18,  21,  22,  23,  24,  25,  26,  28,  30,  43,  46,\n          51,  54,  56,  62,  69,  87,  88,  90,  91,  92, 121])],\n [array([  0,   1,   3,   5,   7,   9,  10,  11,  12,  13,  14,  15,  16,\n          17,  18,  19,  20,  21,  22,  23,  24,  25,  26,  28,  30,  31,\n          32,  33,  35,  36,  37,  38,  39,  40,  42,  43,  44,  45,  46,\n          47,  48,  49,  51,  52,  53,  54,  55,  56,  57,  58,  62,  63,\n          65,  66,  67,  68,  69,  70,  74,  75,  76,  79,  80,  81,  82,\n          83,  84,  85,  86,  87,  88,  89,  90,  91,  92,  94,  96,  97,\n          98,  99, 100, 101, 102, 103, 105, 106, 107, 108, 110, 111, 112,\n         114, 115, 116, 117, 118, 119, 120, 121]),\n  array([  2,   4,   6,   8,  27,  29,  34,  41,  50,  59,  60,  61,  64,\n          71,  72,  73,  77,  78,  93,  95, 104, 109, 113, 122])]]"
     },
     "execution_count": 136,
     "metadata": {},
     "output_type": "execute_result"
    }
   ],
   "source": [
    "from sklearn.ensemble import RandomForestClassifier\n",
    "from sklearn.model_selection import KFold\n",
    "\n",
    "kfold = KFold(n_splits=5, shuffle=True)\n",
    "# 探索性因子分析\n",
    "# kfold =\n",
    "kfold_idx_list = []\n",
    "for train_idx, test_idx in kfold.split(x):\n",
    "    kfold_idx_list.append([train_idx, test_idx])\n",
    "kfold_idx_list"
   ],
   "metadata": {
    "collapsed": false
   }
  },
  {
   "cell_type": "code",
   "execution_count": 137,
   "outputs": [
    {
     "data": {
      "text/plain": "[array([  2,   3,   4,   6,   8,   9,  10,  11,  12,  13,  15,  17,  18,\n         19,  20,  21,  22,  23,  24,  25,  26,  27,  28,  29,  30,  31,\n         32,  33,  34,  37,  38,  40,  41,  42,  43,  46,  47,  49,  50,\n         51,  53,  54,  55,  56,  58,  59,  60,  61,  62,  64,  66,  68,\n         69,  70,  71,  72,  73,  74,  75,  76,  77,  78,  79,  81,  83,\n         84,  86,  87,  88,  89,  90,  91,  92,  93,  94,  95,  96,  97,\n        100, 101, 102, 103, 104, 105, 106, 107, 109, 110, 112, 113, 115,\n        116, 117, 118, 119, 120, 121, 122]),\n array([  0,   1,   5,   7,  14,  16,  35,  36,  39,  44,  45,  48,  52,\n         57,  63,  65,  67,  80,  82,  85,  98,  99, 108, 111, 114])]"
     },
     "execution_count": 137,
     "metadata": {},
     "output_type": "execute_result"
    }
   ],
   "source": [
    "fold_1 = kfold_idx_list[0]\n",
    "fold_1"
   ],
   "metadata": {
    "collapsed": false
   }
  },
  {
   "cell_type": "code",
   "execution_count": 138,
   "outputs": [
    {
     "data": {
      "text/plain": "array([  2,   3,   4,   6,   8,   9,  10,  11,  12,  13,  15,  17,  18,\n        19,  20,  21,  22,  23,  24,  25,  26,  27,  28,  29,  30,  31,\n        32,  33,  34,  37,  38,  40,  41,  42,  43,  46,  47,  49,  50,\n        51,  53,  54,  55,  56,  58,  59,  60,  61,  62,  64,  66,  68,\n        69,  70,  71,  72,  73,  74,  75,  76,  77,  78,  79,  81,  83,\n        84,  86,  87,  88,  89,  90,  91,  92,  93,  94,  95,  96,  97,\n       100, 101, 102, 103, 104, 105, 106, 107, 109, 110, 112, 113, 115,\n       116, 117, 118, 119, 120, 121, 122])"
     },
     "execution_count": 138,
     "metadata": {},
     "output_type": "execute_result"
    }
   ],
   "source": [
    "fold_1[0]"
   ],
   "metadata": {
    "collapsed": false
   }
  },
  {
   "cell_type": "code",
   "execution_count": 139,
   "outputs": [
    {
     "data": {
      "text/plain": "array([[131.03, 1364.0, 44.23, 9.96, 12.52],\n       [68.37, 66.0, 30.54, 0.9496, 1.68],\n       [1404.7, 2045.0, 85.87, 106.0, 335.9],\n       [603.39, 462.0, 56.95, 51.0, 99.58],\n       [530.9, 253.0, 57.7, 93.3, 93.68],\n       [276.68, 122.0, 47.1, 28.6, 37.05],\n       [162.95, 90.0, 37.7, 12.2, 10.27],\n       [75.86, 25.0, 26.3, 6.1, 7.03],\n       [451.6, 266.0, 68.6, 284.7, 124.7],\n       [222.0, 38.0, 43.7, 27.3, 19.5],\n       [21.39, 3.48, 58.54, 14.0, 3.77],\n       [138.1, 44.0, 23.28, 0.8383, 5.63],\n       [1724.95, 152.0, 47.08, 7.2441, 39.11],\n       [188.7, 16.9, 35.7, 0.6779, 4.87],\n       [580.57, 28700.0, 100.0, 11.1319, 27.31],\n       [2652.85, 1206.0, 84.6, 12.08, 25.3],\n       [2588.58, 557.0, 73.4, 19.48, 35.5],\n       [205.55, 136.0, 53.4, 3.08, 1.04],\n       [15331.8, 751.0, 79.2, 618.6, 378.3],\n       [610.71, 368.0, 60.1, 50.59, 8.85],\n       [621.29, 363.0, 67.1, 58.09, 14.7],\n       [274.12, 243.0, 54.5, 24.92, 4.28],\n       [2270.31, 32000.0, 100.0, 26.09, 16.75],\n       [1068.13, 21700.0, 100.0, 209.87, 48.85],\n       [427.37, 11400.0, 100.0, 94.87, 18.55],\n       [54.15, 580.0, 45.4, 8.07, 1.17],\n       [10033.7, 927.0, 61.2, 225.0, 1549.0],\n       [359.3, 130.0, 41.6, 51.4, 80.2],\n       [371.2, 143.0, 38.1, 38.6, 59.5],\n       [5024.82, 199.0, 38.94, 324.5, 132.3],\n       [2597.24, 212.29, 45.4, 21.49, 46.43],\n       [10515.1, 859.49, 83.6, 205.0, 334.0],\n       [3125.28, 485.75, 69.8, 217.0, 127.0],\n       [1515.3, 244.24, 52.6, 165.0, 78.0],\n       [2695.55, 389.04, 53.3, 108.0, 45.0],\n       [84.0, 4.0, 26.8, 1.5, 1.7],\n       [71.0, 3.0, 34.4, 1.4, 7.5],\n       [101.42, 79.0, 37.5, 34.7, 34.7],\n       [190.03, 32.72, 55.4, 85.4, 46.5],\n       [75.03, 3.95, 59.5, 32.6, 21.8],\n       [492.15, 17.5, 71.7, 223.5, 138.8],\n       [274.67, 1.56, 50.6, 31.4, 48.2],\n       [39.22, 0.74, 48.6, 6.8, 7.8],\n       [747.57, 286.3, 73.6, 272.8, 200.9],\n       [157.78, 67.39, 62.5, 68.9, 30.3],\n       [130.78, 144.45, 59.5, 106.9, 30.8],\n       [758.17, 529.92, 65.1, 391.7, 132.9],\n       [204.68, 190.15, 44.5, 52.4, 22.5],\n       [204.19, 213.58, 53.6, 56.5, 18.5],\n       [1637.1, 1614.8, 81.5, 102.9, 209.8],\n       [432.19, 341.38, 61.9, 214.4, 29.6],\n       [285.64, 123.87, 56.6, 114.5, 33.1],\n       [283.39, 60.23, 48.2, 42.8, 17.2],\n       [106.68, 197.77, 51.8, 35.5, 10.2],\n       [146.47, 63.63, 51.9, 46.8, 14.3],\n       [1026.6, 405.36, 74.3, 141.3, 162.9],\n       [215.12, 110.08, 40.6, 102.8, 51.8],\n       [277.38, 158.69, 38.9, 83.2, 27.5],\n       [113.19, 97.62, 49.1, 52.8, 10.6],\n       [1523.6, 947.56, 84.9, 253.0, 374.0],\n       [142.15, 49.19, 38.2, 3.36, 30.62],\n       [305.38, 304.64, 43.6, 36.2, 132.0],\n       [157.1, 238.24, 47.8, 26.7, 42.25],\n       [201.43, 35.45, 50.72, 38.3, 73.4],\n       [127.0, 9.0, 53.8, 37.9, 30.8],\n       [1397.85, 698.45, 62.36, 265.8, 244.2],\n       [193.36, 92.43, 50.87, 53.55, 119.3],\n       [193.21, 305.04, 58.37, 52.56, 55.99],\n       [580.94, 520.75, 64.11, 323.16, 146.94],\n       [460.79, 287.24, 43.33, 208.63, 25.67],\n       [362.43, 184.64, 52.53, 60.87, 147.49],\n       [295.07, 191.18, 44.68, 56.46, 152.8],\n       [87.05, 61.46, 39.04, 32.49, 1.44],\n       [472.6, 1233.5, 63.72, 65.09, 5.68],\n       [150.76, 1770.05, 68.22, 13.89, 1.28],\n       [512.61, 198.39, 46.27, 124.17, 14.35],\n       [312.43, 87.98, 38.76, 38.95, 6.59],\n       [165.69, 40.89, 38.94, 25.37, 4.3],\n       [188.29, 104.67, 38.56, 12.68, 14.33],\n       [86.63, 111.02, 48.08, 13.54, 5.85],\n       [76.95, 83.14, 38.92, 6.87, 3.47],\n       [2423.78, 5517.43, 100.0, 347.13, 917.23],\n       [209.16, 1079.36, 58.14, 57.18, 281.78],\n       [132.44, 214.72, 44.22, 29.11, 282.444],\n       [92.33, 238.87, 44.9, 18.33, 68.449],\n       [368.48, 1578.46, 57.62, 52.75, 102.85],\n       [111.24, 97.19, 45.35, 19.67, 5.13],\n       [44.17, 65.51, 54.31, 9.84, 40.79],\n       [198.67, 619.94, 48.2, 32.41, 2.7742],\n       [182.07, 352.88, 46.31, 36.07, 2.0227],\n       [361.37, 37474.66, 100.0, 10.93, 48.05],\n       [361.37, 13204.26, 100.0, 84.23, 145.9],\n       [176.03, 1029.08, 68.18, 15.33, 70.5],\n       [53.21, 205.62, 35.21, 2.55, 12.2],\n       [1125.46, 1462.73, 59.22, 124.59, 344.83],\n       [294.22, 365.68, 41.18, 30.38, 107.92],\n       [180.78, 192.17, 38.58, 20.79, 124.7],\n       [191.37, 402.41, 43.11, 13.65, 66.7]], dtype=object)"
     },
     "execution_count": 139,
     "metadata": {},
     "output_type": "execute_result"
    }
   ],
   "source": [
    "x_train_fold_1 = x[fold_1[0]]\n",
    "y_train_fold_1 = y[fold_1[0]]\n",
    "x_train_fold_1"
   ],
   "metadata": {
    "collapsed": false
   }
  },
  {
   "cell_type": "code",
   "execution_count": 140,
   "outputs": [],
   "source": [
    "x_test_fold_1 = x[fold_1[-1]]\n",
    "# x_test_fold_1\n",
    "y_test_fold_1 = y[fold_1[-1]]"
   ],
   "metadata": {
    "collapsed": false
   }
  },
  {
   "cell_type": "code",
   "execution_count": 141,
   "outputs": [],
   "source": [
    "def toFloat64(*args):\n",
    "    li = []\n",
    "    for arr in args:\n",
    "        # return arr.astype(np.float64)\n",
    "        # arr =\n",
    "        li.append(arr.astype(np.float64))\n",
    "    return li\n",
    "\n",
    "\n",
    "x_train_fold_1, x_test_fold_1, y_test_fold_1, y_train_fold_1 = toFloat64(\n",
    "    x_train_fold_1,\n",
    "    x_test_fold_1,\n",
    "    y_test_fold_1,\n",
    "    y_train_fold_1\n",
    ")"
   ],
   "metadata": {
    "collapsed": false
   }
  },
  {
   "cell_type": "markdown",
   "source": [
    "*以上为分割训练集与测试集*"
   ],
   "metadata": {
    "collapsed": false
   }
  },
  {
   "cell_type": "code",
   "execution_count": 294,
   "outputs": [],
   "source": [
    "# y_train_fold_1 = y_train_fold_1.reshape((y_train_fold_1.shape[0],))\n",
    "y_train = y_train.reshape((y_train.shape[0],))\n",
    "y_train = y_train.astype(np.int32)"
   ],
   "metadata": {
    "collapsed": false
   }
  },
  {
   "cell_type": "code",
   "execution_count": 143,
   "outputs": [],
   "source": [
    "# y_train_fold_1 = y_train_fold_1.astype(np.int32)"
   ],
   "metadata": {
    "collapsed": false
   }
  },
  {
   "cell_type": "code",
   "execution_count": 295,
   "outputs": [
    {
     "data": {
      "text/plain": "RandomForestClassifier(n_estimators=64, random_state=0)",
      "text/html": "<style>#sk-container-id-5 {color: black;background-color: white;}#sk-container-id-5 pre{padding: 0;}#sk-container-id-5 div.sk-toggleable {background-color: white;}#sk-container-id-5 label.sk-toggleable__label {cursor: pointer;display: block;width: 100%;margin-bottom: 0;padding: 0.3em;box-sizing: border-box;text-align: center;}#sk-container-id-5 label.sk-toggleable__label-arrow:before {content: \"▸\";float: left;margin-right: 0.25em;color: #696969;}#sk-container-id-5 label.sk-toggleable__label-arrow:hover:before {color: black;}#sk-container-id-5 div.sk-estimator:hover label.sk-toggleable__label-arrow:before {color: black;}#sk-container-id-5 div.sk-toggleable__content {max-height: 0;max-width: 0;overflow: hidden;text-align: left;background-color: #f0f8ff;}#sk-container-id-5 div.sk-toggleable__content pre {margin: 0.2em;color: black;border-radius: 0.25em;background-color: #f0f8ff;}#sk-container-id-5 input.sk-toggleable__control:checked~div.sk-toggleable__content {max-height: 200px;max-width: 100%;overflow: auto;}#sk-container-id-5 input.sk-toggleable__control:checked~label.sk-toggleable__label-arrow:before {content: \"▾\";}#sk-container-id-5 div.sk-estimator input.sk-toggleable__control:checked~label.sk-toggleable__label {background-color: #d4ebff;}#sk-container-id-5 div.sk-label input.sk-toggleable__control:checked~label.sk-toggleable__label {background-color: #d4ebff;}#sk-container-id-5 input.sk-hidden--visually {border: 0;clip: rect(1px 1px 1px 1px);clip: rect(1px, 1px, 1px, 1px);height: 1px;margin: -1px;overflow: hidden;padding: 0;position: absolute;width: 1px;}#sk-container-id-5 div.sk-estimator {font-family: monospace;background-color: #f0f8ff;border: 1px dotted black;border-radius: 0.25em;box-sizing: border-box;margin-bottom: 0.5em;}#sk-container-id-5 div.sk-estimator:hover {background-color: #d4ebff;}#sk-container-id-5 div.sk-parallel-item::after {content: \"\";width: 100%;border-bottom: 1px solid gray;flex-grow: 1;}#sk-container-id-5 div.sk-label:hover label.sk-toggleable__label {background-color: #d4ebff;}#sk-container-id-5 div.sk-serial::before {content: \"\";position: absolute;border-left: 1px solid gray;box-sizing: border-box;top: 0;bottom: 0;left: 50%;z-index: 0;}#sk-container-id-5 div.sk-serial {display: flex;flex-direction: column;align-items: center;background-color: white;padding-right: 0.2em;padding-left: 0.2em;position: relative;}#sk-container-id-5 div.sk-item {position: relative;z-index: 1;}#sk-container-id-5 div.sk-parallel {display: flex;align-items: stretch;justify-content: center;background-color: white;position: relative;}#sk-container-id-5 div.sk-item::before, #sk-container-id-5 div.sk-parallel-item::before {content: \"\";position: absolute;border-left: 1px solid gray;box-sizing: border-box;top: 0;bottom: 0;left: 50%;z-index: -1;}#sk-container-id-5 div.sk-parallel-item {display: flex;flex-direction: column;z-index: 1;position: relative;background-color: white;}#sk-container-id-5 div.sk-parallel-item:first-child::after {align-self: flex-end;width: 50%;}#sk-container-id-5 div.sk-parallel-item:last-child::after {align-self: flex-start;width: 50%;}#sk-container-id-5 div.sk-parallel-item:only-child::after {width: 0;}#sk-container-id-5 div.sk-dashed-wrapped {border: 1px dashed gray;margin: 0 0.4em 0.5em 0.4em;box-sizing: border-box;padding-bottom: 0.4em;background-color: white;}#sk-container-id-5 div.sk-label label {font-family: monospace;font-weight: bold;display: inline-block;line-height: 1.2em;}#sk-container-id-5 div.sk-label-container {text-align: center;}#sk-container-id-5 div.sk-container {/* jupyter's `normalize.less` sets `[hidden] { display: none; }` but bootstrap.min.css set `[hidden] { display: none !important; }` so we also need the `!important` here to be able to override the default hidden behavior on the sphinx rendered scikit-learn.org. See: https://github.com/scikit-learn/scikit-learn/issues/21755 */display: inline-block !important;position: relative;}#sk-container-id-5 div.sk-text-repr-fallback {display: none;}</style><div id=\"sk-container-id-5\" class=\"sk-top-container\"><div class=\"sk-text-repr-fallback\"><pre>RandomForestClassifier(n_estimators=64, random_state=0)</pre><b>In a Jupyter environment, please rerun this cell to show the HTML representation or trust the notebook. <br />On GitHub, the HTML representation is unable to render, please try loading this page with nbviewer.org.</b></div><div class=\"sk-container\" hidden><div class=\"sk-item\"><div class=\"sk-estimator sk-toggleable\"><input class=\"sk-toggleable__control sk-hidden--visually\" id=\"sk-estimator-id-5\" type=\"checkbox\" checked><label for=\"sk-estimator-id-5\" class=\"sk-toggleable__label sk-toggleable__label-arrow\">RandomForestClassifier</label><div class=\"sk-toggleable__content\"><pre>RandomForestClassifier(n_estimators=64, random_state=0)</pre></div></div></div></div></div>"
     },
     "execution_count": 295,
     "metadata": {},
     "output_type": "execute_result"
    }
   ],
   "source": [
    "regressor = RandomForestClassifier(\n",
    "    n_estimators=64,\n",
    "    random_state=0\n",
    ")\n",
    "regressor.fit(x_train,y_train)"
   ],
   "metadata": {
    "collapsed": false
   }
  },
  {
   "cell_type": "code",
   "execution_count": 296,
   "outputs": [],
   "source": [
    "ret = regressor.predict(x_test)"
   ],
   "metadata": {
    "collapsed": false
   }
  },
  {
   "cell_type": "code",
   "execution_count": 146,
   "outputs": [
    {
     "data": {
      "text/plain": "(25,)"
     },
     "execution_count": 146,
     "metadata": {},
     "output_type": "execute_result"
    }
   ],
   "source": [
    "y_test_fold_1.ravel().shape"
   ],
   "metadata": {
    "collapsed": false
   }
  },
  {
   "cell_type": "code",
   "execution_count": 297,
   "outputs": [
    {
     "data": {
      "text/plain": "117.2632"
     },
     "execution_count": 297,
     "metadata": {},
     "output_type": "execute_result"
    }
   ],
   "source": [
    "from sklearn import metrics\n",
    "\n",
    "metrics.mean_absolute_error(ret, y_test)"
   ],
   "metadata": {
    "collapsed": false
   }
  },
  {
   "cell_type": "code",
   "execution_count": 298,
   "outputs": [
    {
     "data": {
      "text/plain": "28205.156271999997"
     },
     "execution_count": 298,
     "metadata": {},
     "output_type": "execute_result"
    }
   ],
   "source": [
    "metrics.mean_squared_error(ret,y_test)"
   ],
   "metadata": {
    "collapsed": false
   }
  },
  {
   "cell_type": "code",
   "execution_count": 299,
   "outputs": [
    {
     "data": {
      "text/plain": "1.0"
     },
     "execution_count": 299,
     "metadata": {},
     "output_type": "execute_result"
    }
   ],
   "source": [
    "regressor.score(x_train,y_train)"
   ],
   "metadata": {
    "collapsed": false
   }
  },
  {
   "cell_type": "code",
   "execution_count": 300,
   "outputs": [
    {
     "data": {
      "text/plain": "581.8584454762172"
     },
     "execution_count": 300,
     "metadata": {},
     "output_type": "execute_result"
    }
   ],
   "source": [
    "np.sqrt(metrics.mean_squared_error(ret, y_test_fold_1.ravel()))"
   ],
   "metadata": {
    "collapsed": false
   }
  },
  {
   "cell_type": "code",
   "execution_count": 152,
   "outputs": [
    {
     "data": {
      "text/plain": "['GDP', 'PopDenity', 'Urban_rate', 'Cars', 'Elec']"
     },
     "execution_count": 152,
     "metadata": {},
     "output_type": "execute_result"
    }
   ],
   "source": [
    "df.columns.tolist()[2:-1]"
   ],
   "metadata": {
    "collapsed": false
   }
  },
  {
   "cell_type": "code",
   "execution_count": 301,
   "outputs": [
    {
     "data": {
      "text/plain": "[0.1975562028985395,\n 0.2079303649383622,\n 0.1793662780795889,\n 0.21491541979213805,\n 0.20023173429137128]"
     },
     "execution_count": 301,
     "metadata": {},
     "output_type": "execute_result"
    }
   ],
   "source": [
    "importance = list(regressor.feature_importances_)\n",
    "importance"
   ],
   "metadata": {
    "collapsed": false
   }
  },
  {
   "cell_type": "code",
   "execution_count": 302,
   "outputs": [],
   "source": [
    "froest_importance = pd.Series(importance, index=df.columns.tolist()[2:-1])"
   ],
   "metadata": {
    "collapsed": false
   }
  },
  {
   "cell_type": "code",
   "execution_count": 303,
   "outputs": [
    {
     "data": {
      "text/plain": "GDP           0.197556\nPopDenity     0.207930\nUrban_rate    0.179366\nCars          0.214915\nElec          0.200232\ndtype: float64"
     },
     "execution_count": 303,
     "metadata": {},
     "output_type": "execute_result"
    }
   ],
   "source": [
    "froest_importance"
   ],
   "metadata": {
    "collapsed": false
   }
  },
  {
   "cell_type": "code",
   "execution_count": 304,
   "outputs": [
    {
     "data": {
      "text/plain": "[0.1975562028985395,\n 0.2079303649383622,\n 0.1793662780795889,\n 0.21491541979213805,\n 0.20023173429137128]"
     },
     "execution_count": 304,
     "metadata": {},
     "output_type": "execute_result"
    }
   ],
   "source": [
    "importance"
   ],
   "metadata": {
    "collapsed": false
   }
  },
  {
   "cell_type": "code",
   "execution_count": 305,
   "outputs": [
    {
     "data": {
      "text/plain": "([<matplotlib.patches.Wedge at 0x2459d777e50>,\n  <matplotlib.patches.Wedge at 0x2459d51f430>,\n  <matplotlib.patches.Wedge at 0x2459d70bd60>,\n  <matplotlib.patches.Wedge at 0x2459d70a7a0>,\n  <matplotlib.patches.Wedge at 0x2459d70b070>],\n [Text(1.7897127341797416, 1.2794249994098421, 'GDP'),\n  Text(-0.6998068285477573, 2.085730184543996, 'PopDenity'),\n  Text(-2.198986867841347, 0.06675893244580283, 'Urban_rate'),\n  Text(-0.7800937289542448, -2.0570497743239615, 'Cars'),\n  Text(1.7788955137528237, -1.2944229413719759, 'Elec')],\n [Text(0.9762069459162226, 0.6978681814962774, '19.76%'),\n  Text(-0.38171281557150394, 1.1376710097512703, '20.79%'),\n  Text(-1.1994473824589162, 0.03641396315225608, '17.94%'),\n  Text(-0.425505670338679, -1.1220271496312517, '21.49%'),\n  Text(0.9703066438651765, -0.7060488771119867, '20.02%')])"
     },
     "execution_count": 305,
     "metadata": {},
     "output_type": "execute_result"
    },
    {
     "data": {
      "text/plain": "<Figure size 200x200 with 1 Axes>",
      "image/png": "[encoded data removed]"
     },
     "metadata": {},
     "output_type": "display_data"
    }
   ],
   "source": [
    "colors = plt.get_cmap('BuGn')(np.linspace(0.2, 0.7, len(importance)))\n",
    "# plt.figure(figsize=(2,5))\n",
    "plt.pie(x=importance, radius=2, center=(0, 0), autopct='%.2f%%', labels=df.columns.tolist()[2:-1], colors=colors)\n",
    "# plt.title('随机森林回归分析导出的指标重要程度')"
   ],
   "metadata": {
    "collapsed": false
   }
  },
  {
   "cell_type": "code",
   "execution_count": 0,
   "outputs": [],
   "source": [
    "regressor.score(x_test_fold_1, y_test_fold_1)"
   ],
   "metadata": {
    "collapsed": false
   }
  },
  {
   "cell_type": "code",
   "execution_count": 191,
   "outputs": [],
   "source": [
    "# 支持向量机回归分析\n",
    "from sklearn.svm import SVR"
   ],
   "metadata": {
    "collapsed": false
   }
  },
  {
   "cell_type": "code",
   "execution_count": 210,
   "outputs": [
    {
     "data": {
      "text/plain": "SVR(kernel='linear')",
      "text/html": "<style>#sk-container-id-4 {color: black;background-color: white;}#sk-container-id-4 pre{padding: 0;}#sk-container-id-4 div.sk-toggleable {background-color: white;}#sk-container-id-4 label.sk-toggleable__label {cursor: pointer;display: block;width: 100%;margin-bottom: 0;padding: 0.3em;box-sizing: border-box;text-align: center;}#sk-container-id-4 label.sk-toggleable__label-arrow:before {content: \"▸\";float: left;margin-right: 0.25em;color: #696969;}#sk-container-id-4 label.sk-toggleable__label-arrow:hover:before {color: black;}#sk-container-id-4 div.sk-estimator:hover label.sk-toggleable__label-arrow:before {color: black;}#sk-container-id-4 div.sk-toggleable__content {max-height: 0;max-width: 0;overflow: hidden;text-align: left;background-color: #f0f8ff;}#sk-container-id-4 div.sk-toggleable__content pre {margin: 0.2em;color: black;border-radius: 0.25em;background-color: #f0f8ff;}#sk-container-id-4 input.sk-toggleable__control:checked~div.sk-toggleable__content {max-height: 200px;max-width: 100%;overflow: auto;}#sk-container-id-4 input.sk-toggleable__control:checked~label.sk-toggleable__label-arrow:before {content: \"▾\";}#sk-container-id-4 div.sk-estimator input.sk-toggleable__control:checked~label.sk-toggleable__label {background-color: #d4ebff;}#sk-container-id-4 div.sk-label input.sk-toggleable__control:checked~label.sk-toggleable__label {background-color: #d4ebff;}#sk-container-id-4 input.sk-hidden--visually {border: 0;clip: rect(1px 1px 1px 1px);clip: rect(1px, 1px, 1px, 1px);height: 1px;margin: -1px;overflow: hidden;padding: 0;position: absolute;width: 1px;}#sk-container-id-4 div.sk-estimator {font-family: monospace;background-color: #f0f8ff;border: 1px dotted black;border-radius: 0.25em;box-sizing: border-box;margin-bottom: 0.5em;}#sk-container-id-4 div.sk-estimator:hover {background-color: #d4ebff;}#sk-container-id-4 div.sk-parallel-item::after {content: \"\";width: 100%;border-bottom: 1px solid gray;flex-grow: 1;}#sk-container-id-4 div.sk-label:hover label.sk-toggleable__label {background-color: #d4ebff;}#sk-container-id-4 div.sk-serial::before {content: \"\";position: absolute;border-left: 1px solid gray;box-sizing: border-box;top: 0;bottom: 0;left: 50%;z-index: 0;}#sk-container-id-4 div.sk-serial {display: flex;flex-direction: column;align-items: center;background-color: white;padding-right: 0.2em;padding-left: 0.2em;position: relative;}#sk-container-id-4 div.sk-item {position: relative;z-index: 1;}#sk-container-id-4 div.sk-parallel {display: flex;align-items: stretch;justify-content: center;background-color: white;position: relative;}#sk-container-id-4 div.sk-item::before, #sk-container-id-4 div.sk-parallel-item::before {content: \"\";position: absolute;border-left: 1px solid gray;box-sizing: border-box;top: 0;bottom: 0;left: 50%;z-index: -1;}#sk-container-id-4 div.sk-parallel-item {display: flex;flex-direction: column;z-index: 1;position: relative;background-color: white;}#sk-container-id-4 div.sk-parallel-item:first-child::after {align-self: flex-end;width: 50%;}#sk-container-id-4 div.sk-parallel-item:last-child::after {align-self: flex-start;width: 50%;}#sk-container-id-4 div.sk-parallel-item:only-child::after {width: 0;}#sk-container-id-4 div.sk-dashed-wrapped {border: 1px dashed gray;margin: 0 0.4em 0.5em 0.4em;box-sizing: border-box;padding-bottom: 0.4em;background-color: white;}#sk-container-id-4 div.sk-label label {font-family: monospace;font-weight: bold;display: inline-block;line-height: 1.2em;}#sk-container-id-4 div.sk-label-container {text-align: center;}#sk-container-id-4 div.sk-container {/* jupyter's `normalize.less` sets `[hidden] { display: none; }` but bootstrap.min.css set `[hidden] { display: none !important; }` so we also need the `!important` here to be able to override the default hidden behavior on the sphinx rendered scikit-learn.org. See: https://github.com/scikit-learn/scikit-learn/issues/21755 */display: inline-block !important;position: relative;}#sk-container-id-4 div.sk-text-repr-fallback {display: none;}</style><div id=\"sk-container-id-4\" class=\"sk-top-container\"><div class=\"sk-text-repr-fallback\"><pre>SVR(kernel=&#x27;linear&#x27;)</pre><b>In a Jupyter environment, please rerun this cell to show the HTML representation or trust the notebook. <br />On GitHub, the HTML representation is unable to render, please try loading this page with nbviewer.org.</b></div><div class=\"sk-container\" hidden><div class=\"sk-item\"><div class=\"sk-estimator sk-toggleable\"><input class=\"sk-toggleable__control sk-hidden--visually\" id=\"sk-estimator-id-4\" type=\"checkbox\" checked><label for=\"sk-estimator-id-4\" class=\"sk-toggleable__label sk-toggleable__label-arrow\">SVR</label><div class=\"sk-toggleable__content\"><pre>SVR(kernel=&#x27;linear&#x27;)</pre></div></div></div></div></div>"
     },
     "execution_count": 210,
     "metadata": {},
     "output_type": "execute_result"
    }
   ],
   "source": [
    "linear_svr = SVR(kernel='linear')\n",
    "linear_svr.fit(x_train_fold_1, y_train_fold_1)"
   ],
   "metadata": {
    "collapsed": false
   }
  },
  {
   "cell_type": "code",
   "execution_count": 212,
   "outputs": [],
   "source": [
    "y_predict_fold_1 = linear_svr.predict(x_test_fold_1)"
   ],
   "metadata": {
    "collapsed": false
   }
  },
  {
   "cell_type": "markdown",
   "source": [
    "两种准确率。\n",
    "**注意，这是线性内核的数据**"
   ],
   "metadata": {
    "collapsed": false
   }
  },
  {
   "cell_type": "code",
   "execution_count": 216,
   "outputs": [
    {
     "data": {
      "text/plain": "182647.98873667954"
     },
     "execution_count": 216,
     "metadata": {},
     "output_type": "execute_result"
    }
   ],
   "source": [
    "metrics.mean_squared_error(y_predict_fold_1, y_test_fold_1)"
   ],
   "metadata": {
    "collapsed": false
   }
  },
  {
   "cell_type": "code",
   "execution_count": 218,
   "outputs": [
    {
     "data": {
      "text/plain": "196.30727922890307"
     },
     "execution_count": 218,
     "metadata": {},
     "output_type": "execute_result"
    }
   ],
   "source": [
    "metrics.mean_absolute_error(y_predict_fold_1, y_test_fold_1)"
   ],
   "metadata": {
    "collapsed": false
   }
  },
  {
   "cell_type": "code",
   "execution_count": 220,
   "outputs": [
    {
     "data": {
      "text/plain": "0.6198317763412973"
     },
     "execution_count": 220,
     "metadata": {},
     "output_type": "execute_result"
    }
   ],
   "source": [
    "linear_svr.score(x_train_fold_1, y_train_fold_1)"
   ],
   "metadata": {
    "collapsed": false
   }
  },
  {
   "cell_type": "code",
   "execution_count": 221,
   "outputs": [],
   "source": [
    "# rbf高斯核\n",
    "rbf_svr = SVR(kernel='rbf')\n",
    "rbf_svr.fit(x_train_fold_1, y_train_fold_1)\n",
    "rbf_pred_fold_1 = rbf_svr.predict(x_test_fold_1)"
   ],
   "metadata": {
    "collapsed": false
   }
  },
  {
   "cell_type": "code",
   "execution_count": 222,
   "outputs": [
    {
     "data": {
      "text/plain": "268.4971314017132"
     },
     "execution_count": 222,
     "metadata": {},
     "output_type": "execute_result"
    }
   ],
   "source": [
    "metrics.mean_absolute_error(rbf_pred_fold_1, y_test_fold_1)"
   ],
   "metadata": {
    "collapsed": false
   }
  },
  {
   "cell_type": "code",
   "execution_count": 240,
   "outputs": [
    {
     "data": {
      "text/plain": "233008.41259680557"
     },
     "execution_count": 240,
     "metadata": {},
     "output_type": "execute_result"
    }
   ],
   "source": [
    "metrics.mean_squared_error(rbf_pred_fold_1, y_test_fold_1)"
   ],
   "metadata": {
    "collapsed": false
   }
  },
  {
   "cell_type": "code",
   "execution_count": 241,
   "outputs": [
    {
     "data": {
      "text/plain": "-0.13898480997162554"
     },
     "execution_count": 241,
     "metadata": {},
     "output_type": "execute_result"
    }
   ],
   "source": [
    "rbf_svr.score(x_train_fold_1,y_train_fold_1)"
   ],
   "metadata": {
    "collapsed": false
   }
  },
  {
   "cell_type": "code",
   "execution_count": 224,
   "outputs": [],
   "source": [
    "# 多项式核模型\n",
    "poly_svr = SVR(kernel='poly')\n",
    "poly_svr.fit(x_train_fold_1, y_train_fold_1)\n",
    "poly_pred_fold_1 = poly_svr.predict(x_test_fold_1)"
   ],
   "metadata": {
    "collapsed": false
   }
  },
  {
   "cell_type": "code",
   "execution_count": 225,
   "outputs": [
    {
     "data": {
      "text/plain": "235572.76610552875"
     },
     "execution_count": 225,
     "metadata": {},
     "output_type": "execute_result"
    }
   ],
   "source": [
    "metrics.mean_squared_error(poly_pred_fold_1, y_test_fold_1)"
   ],
   "metadata": {
    "collapsed": false
   }
  },
  {
   "cell_type": "code",
   "execution_count": 238,
   "outputs": [
    {
     "data": {
      "text/plain": "263.1650676243895"
     },
     "execution_count": 238,
     "metadata": {},
     "output_type": "execute_result"
    }
   ],
   "source": [
    "metrics.mean_absolute_error(poly_pred_fold_1, y_test_fold_1)"
   ],
   "metadata": {
    "collapsed": false
   }
  },
  {
   "cell_type": "code",
   "execution_count": 0,
   "outputs": [],
   "source": [
    "poly_svr.score(x_train_fold_1,y_train_fold_1)"
   ],
   "metadata": {
    "collapsed": false
   }
  },
  {
   "cell_type": "code",
   "execution_count": 322,
   "outputs": [
    {
     "data": {
      "text/plain": "array([ 310,   31,   18,    7, 2147,  463,  186,  125,  612,  172,   56,\n         33,  650,  173,   82,   48,  208,  139,  103,   69,  447,  166,\n         31,   16, 2335,  217,  171,   74,  788,  322,  169,   30, 2132,\n        186,  133,   58,  841,  198,  155,   55, 1253,  273,  136,   93,\n        538,  132,   86,   31,  367,   72,   72,   38,  775,  133,   97,\n         46, 2179,  313,  158,   60, 1078,  199,  164,   38, 1789,  609,\n        284,  114,  430,   99,   61,   43,  974,  227,  148,   57, 2368,\n        149,   99,   33,  598,  236,   79,   32, 1205,  246,  153,  117,\n       1234,  503,  198,  120,  238,  166,  136,  605,  374,  176,  107,\n        511,  201,   72,   49, 2329,  325,  128,   66,  594,  103,   60,\n         29, 2168,  462,  179,  143,  381,  164,   38,   15,  856,  236,\n        104,   49])"
     },
     "execution_count": 322,
     "metadata": {},
     "output_type": "execute_result"
    }
   ],
   "source": [
    "y"
   ],
   "metadata": {
    "collapsed": false
   }
  },
  {
   "cell_type": "markdown",
   "source": [
    "**尝试一下据说效果很强的XGBoost**"
   ],
   "metadata": {
    "collapsed": false
   }
  },
  {
   "cell_type": "code",
   "execution_count": 0,
   "outputs": [],
   "source": [
    "from xgboost.sklearn import XGBRegressor\n",
    "from xgboost import plot_importance\n",
    "from sklearn.model_selection import train_test_split,GridSearchCV\n",
    "\n",
    "\n",
    "\n",
    "xgb_model = XGBRegressor(\n",
    "        n_estimators=160,   # 生成最大树的数目，最大的迭代次数\n",
    "        learning_rate=0.1,  # 学习率， 每一步迭代的步长，先使用0.1\n",
    "        max_depth=5,        # 树的最大深度。控制过拟合，越大，模型学习的越加具体。等于0时没有限制。\n",
    "        gamma = 0,          # 节点分裂所需的最小损失函数下降数值，值越大，算法越保守。\n",
    "        subsample = 1,      # 该参数越小，算法月保守。典型数值，0.5~1\n",
    "        objective='reg:gamma'\n",
    "        )\n"
   ],
   "metadata": {
    "collapsed": false
   }
  },
  {
   "cell_type": "code",
   "execution_count": 323,
   "outputs": [
    {
     "name": "stdout",
     "output_type": "stream",
     "text": [
      "[01:53:15] WARNING: C:/buildkite-agent/builds/buildkite-windows-cpu-autoscaling-group-i-0fc7796c793e6356f-1/xgboost/xgboost-ci-windows/src/learner.cc:767: \n",
      "Parameters: { \"min_child-weight\" } are not used.\n",
      "\n",
      "[01:53:15] WARNING: C:/buildkite-agent/builds/buildkite-windows-cpu-autoscaling-group-i-0fc7796c793e6356f-1/xgboost/xgboost-ci-windows/src/learner.cc:767: \n",
      "Parameters: { \"min_child-weight\" } are not used.\n",
      "\n",
      "[01:53:15] WARNING: C:/buildkite-agent/builds/buildkite-windows-cpu-autoscaling-group-i-0fc7796c793e6356f-1/xgboost/xgboost-ci-windows/src/learner.cc:767: \n",
      "Parameters: { \"min_child-weight\" } are not used.\n",
      "\n",
      "[01:53:15] WARNING: C:/buildkite-agent/builds/buildkite-windows-cpu-autoscaling-group-i-0fc7796c793e6356f-1/xgboost/xgboost-ci-windows/src/learner.cc:767: \n",
      "Parameters: { \"min_child-weight\" } are not used.\n",
      "\n",
      "[01:53:15] WARNING: C:/buildkite-agent/builds/buildkite-windows-cpu-autoscaling-group-i-0fc7796c793e6356f-1/xgboost/xgboost-ci-windows/src/learner.cc:767: \n",
      "Parameters: { \"min_child-weight\" } are not used.\n",
      "\n",
      "[01:53:15] WARNING: C:/buildkite-agent/builds/buildkite-windows-cpu-autoscaling-group-i-0fc7796c793e6356f-1/xgboost/xgboost-ci-windows/src/learner.cc:767: \n",
      "Parameters: { \"min_child-weight\" } are not used.\n",
      "\n",
      "[01:53:15] WARNING: C:/buildkite-agent/builds/buildkite-windows-cpu-autoscaling-group-i-0fc7796c793e6356f-1/xgboost/xgboost-ci-windows/src/learner.cc:767: \n",
      "Parameters: { \"min_child-weight\" } are not used.\n",
      "\n",
      "[01:53:15] WARNING: C:/buildkite-agent/builds/buildkite-windows-cpu-autoscaling-group-i-0fc7796c793e6356f-1/xgboost/xgboost-ci-windows/src/learner.cc:767: \n",
      "Parameters: { \"min_child-weight\" } are not used.\n",
      "\n",
      "[01:53:16] WARNING: C:/buildkite-agent/builds/buildkite-windows-cpu-autoscaling-group-i-0fc7796c793e6356f-1/xgboost/xgboost-ci-windows/src/learner.cc:767: \n",
      "Parameters: { \"min_child-weight\" } are not used.\n",
      "\n",
      "[01:53:16] WARNING: C:/buildkite-agent/builds/buildkite-windows-cpu-autoscaling-group-i-0fc7796c793e6356f-1/xgboost/xgboost-ci-windows/src/learner.cc:767: \n",
      "Parameters: { \"min_child-weight\" } are not used.\n",
      "\n",
      "[01:53:16] WARNING: C:/buildkite-agent/builds/buildkite-windows-cpu-autoscaling-group-i-0fc7796c793e6356f-1/xgboost/xgboost-ci-windows/src/learner.cc:767: \n",
      "Parameters: { \"min_child-weight\" } are not used.\n",
      "\n",
      "[01:53:16] WARNING: C:/buildkite-agent/builds/buildkite-windows-cpu-autoscaling-group-i-0fc7796c793e6356f-1/xgboost/xgboost-ci-windows/src/learner.cc:767: \n",
      "Parameters: { \"min_child-weight\" } are not used.\n",
      "\n",
      "[01:53:16] WARNING: C:/buildkite-agent/builds/buildkite-windows-cpu-autoscaling-group-i-0fc7796c793e6356f-1/xgboost/xgboost-ci-windows/src/learner.cc:767: \n",
      "Parameters: { \"min_child-weight\" } are not used.\n",
      "\n",
      "[01:53:16] WARNING: C:/buildkite-agent/builds/buildkite-windows-cpu-autoscaling-group-i-0fc7796c793e6356f-1/xgboost/xgboost-ci-windows/src/learner.cc:767: \n",
      "Parameters: { \"min_child-weight\" } are not used.\n",
      "\n",
      "[01:53:16] WARNING: C:/buildkite-agent/builds/buildkite-windows-cpu-autoscaling-group-i-0fc7796c793e6356f-1/xgboost/xgboost-ci-windows/src/learner.cc:767: \n",
      "Parameters: { \"min_child-weight\" } are not used.\n",
      "\n",
      "[01:53:16] WARNING: C:/buildkite-agent/builds/buildkite-windows-cpu-autoscaling-group-i-0fc7796c793e6356f-1/xgboost/xgboost-ci-windows/src/learner.cc:767: \n",
      "Parameters: { \"min_child-weight\" } are not used.\n",
      "\n",
      "[01:53:16] WARNING: C:/buildkite-agent/builds/buildkite-windows-cpu-autoscaling-group-i-0fc7796c793e6356f-1/xgboost/xgboost-ci-windows/src/learner.cc:767: \n",
      "Parameters: { \"min_child-weight\" } are not used.\n",
      "\n",
      "[01:53:16] WARNING: C:/buildkite-agent/builds/buildkite-windows-cpu-autoscaling-group-i-0fc7796c793e6356f-1/xgboost/xgboost-ci-windows/src/learner.cc:767: \n",
      "Parameters: { \"min_child-weight\" } are not used.\n",
      "\n",
      "[01:53:16] WARNING: C:/buildkite-agent/builds/buildkite-windows-cpu-autoscaling-group-i-0fc7796c793e6356f-1/xgboost/xgboost-ci-windows/src/learner.cc:767: \n",
      "Parameters: { \"min_child-weight\" } are not used.\n",
      "\n",
      "[01:53:16] WARNING: C:/buildkite-agent/builds/buildkite-windows-cpu-autoscaling-group-i-0fc7796c793e6356f-1/xgboost/xgboost-ci-windows/src/learner.cc:767: \n",
      "Parameters: { \"min_child-weight\" } are not used.\n",
      "\n",
      "[01:53:16] WARNING: C:/buildkite-agent/builds/buildkite-windows-cpu-autoscaling-group-i-0fc7796c793e6356f-1/xgboost/xgboost-ci-windows/src/learner.cc:767: \n",
      "Parameters: { \"min_child-weight\" } are not used.\n",
      "\n",
      "[01:53:16] WARNING: C:/buildkite-agent/builds/buildkite-windows-cpu-autoscaling-group-i-0fc7796c793e6356f-1/xgboost/xgboost-ci-windows/src/learner.cc:767: \n",
      "Parameters: { \"min_child-weight\" } are not used.\n",
      "\n",
      "[01:53:16] WARNING: C:/buildkite-agent/builds/buildkite-windows-cpu-autoscaling-group-i-0fc7796c793e6356f-1/xgboost/xgboost-ci-windows/src/learner.cc:767: \n",
      "Parameters: { \"min_child-weight\" } are not used.\n",
      "\n",
      "[01:53:16] WARNING: C:/buildkite-agent/builds/buildkite-windows-cpu-autoscaling-group-i-0fc7796c793e6356f-1/xgboost/xgboost-ci-windows/src/learner.cc:767: \n",
      "Parameters: { \"min_child-weight\" } are not used.\n",
      "\n",
      "[01:53:16] WARNING: C:/buildkite-agent/builds/buildkite-windows-cpu-autoscaling-group-i-0fc7796c793e6356f-1/xgboost/xgboost-ci-windows/src/learner.cc:767: \n",
      "Parameters: { \"min_child-weight\" } are not used.\n",
      "\n",
      "[01:53:16] WARNING: C:/buildkite-agent/builds/buildkite-windows-cpu-autoscaling-group-i-0fc7796c793e6356f-1/xgboost/xgboost-ci-windows/src/learner.cc:767: \n",
      "Parameters: { \"min_child-weight\" } are not used.\n",
      "\n",
      "[01:53:17] WARNING: C:/buildkite-agent/builds/buildkite-windows-cpu-autoscaling-group-i-0fc7796c793e6356f-1/xgboost/xgboost-ci-windows/src/learner.cc:767: \n",
      "Parameters: { \"min_child-weight\" } are not used.\n",
      "\n",
      "[01:53:17] WARNING: C:/buildkite-agent/builds/buildkite-windows-cpu-autoscaling-group-i-0fc7796c793e6356f-1/xgboost/xgboost-ci-windows/src/learner.cc:767: \n",
      "Parameters: { \"min_child-weight\" } are not used.\n",
      "\n",
      "[01:53:17] WARNING: C:/buildkite-agent/builds/buildkite-windows-cpu-autoscaling-group-i-0fc7796c793e6356f-1/xgboost/xgboost-ci-windows/src/learner.cc:767: \n",
      "Parameters: { \"min_child-weight\" } are not used.\n",
      "\n",
      "[01:53:17] WARNING: C:/buildkite-agent/builds/buildkite-windows-cpu-autoscaling-group-i-0fc7796c793e6356f-1/xgboost/xgboost-ci-windows/src/learner.cc:767: \n",
      "Parameters: { \"min_child-weight\" } are not used.\n",
      "\n",
      "[01:53:17] WARNING: C:/buildkite-agent/builds/buildkite-windows-cpu-autoscaling-group-i-0fc7796c793e6356f-1/xgboost/xgboost-ci-windows/src/learner.cc:767: \n",
      "Parameters: { \"min_child-weight\" } are not used.\n",
      "\n",
      "[01:53:17] WARNING: C:/buildkite-agent/builds/buildkite-windows-cpu-autoscaling-group-i-0fc7796c793e6356f-1/xgboost/xgboost-ci-windows/src/learner.cc:767: \n",
      "Parameters: { \"min_child-weight\" } are not used.\n",
      "\n",
      "[01:53:17] WARNING: C:/buildkite-agent/builds/buildkite-windows-cpu-autoscaling-group-i-0fc7796c793e6356f-1/xgboost/xgboost-ci-windows/src/learner.cc:767: \n",
      "Parameters: { \"min_child-weight\" } are not used.\n",
      "\n",
      "[01:53:17] WARNING: C:/buildkite-agent/builds/buildkite-windows-cpu-autoscaling-group-i-0fc7796c793e6356f-1/xgboost/xgboost-ci-windows/src/learner.cc:767: \n",
      "Parameters: { \"min_child-weight\" } are not used.\n",
      "\n",
      "[01:53:17] WARNING: C:/buildkite-agent/builds/buildkite-windows-cpu-autoscaling-group-i-0fc7796c793e6356f-1/xgboost/xgboost-ci-windows/src/learner.cc:767: \n",
      "Parameters: { \"min_child-weight\" } are not used.\n",
      "\n",
      "[01:53:17] WARNING: C:/buildkite-agent/builds/buildkite-windows-cpu-autoscaling-group-i-0fc7796c793e6356f-1/xgboost/xgboost-ci-windows/src/learner.cc:767: \n",
      "Parameters: { \"min_child-weight\" } are not used.\n",
      "\n",
      "[01:53:17] WARNING: C:/buildkite-agent/builds/buildkite-windows-cpu-autoscaling-group-i-0fc7796c793e6356f-1/xgboost/xgboost-ci-windows/src/learner.cc:767: \n",
      "Parameters: { \"min_child-weight\" } are not used.\n",
      "\n",
      "[01:53:17] WARNING: C:/buildkite-agent/builds/buildkite-windows-cpu-autoscaling-group-i-0fc7796c793e6356f-1/xgboost/xgboost-ci-windows/src/learner.cc:767: \n",
      "Parameters: { \"min_child-weight\" } are not used.\n",
      "\n",
      "[01:53:17] WARNING: C:/buildkite-agent/builds/buildkite-windows-cpu-autoscaling-group-i-0fc7796c793e6356f-1/xgboost/xgboost-ci-windows/src/learner.cc:767: \n",
      "Parameters: { \"min_child-weight\" } are not used.\n",
      "\n",
      "[01:53:17] WARNING: C:/buildkite-agent/builds/buildkite-windows-cpu-autoscaling-group-i-0fc7796c793e6356f-1/xgboost/xgboost-ci-windows/src/learner.cc:767: \n",
      "Parameters: { \"min_child-weight\" } are not used.\n",
      "\n",
      "[01:53:17] WARNING: C:/buildkite-agent/builds/buildkite-windows-cpu-autoscaling-group-i-0fc7796c793e6356f-1/xgboost/xgboost-ci-windows/src/learner.cc:767: \n",
      "Parameters: { \"min_child-weight\" } are not used.\n",
      "\n",
      "[01:53:17] WARNING: C:/buildkite-agent/builds/buildkite-windows-cpu-autoscaling-group-i-0fc7796c793e6356f-1/xgboost/xgboost-ci-windows/src/learner.cc:767: \n",
      "Parameters: { \"min_child-weight\" } are not used.\n",
      "\n",
      "[01:53:17] WARNING: C:/buildkite-agent/builds/buildkite-windows-cpu-autoscaling-group-i-0fc7796c793e6356f-1/xgboost/xgboost-ci-windows/src/learner.cc:767: \n",
      "Parameters: { \"min_child-weight\" } are not used.\n",
      "\n",
      "[01:53:18] WARNING: C:/buildkite-agent/builds/buildkite-windows-cpu-autoscaling-group-i-0fc7796c793e6356f-1/xgboost/xgboost-ci-windows/src/learner.cc:767: \n",
      "Parameters: { \"min_child-weight\" } are not used.\n",
      "\n",
      "[01:53:18] WARNING: C:/buildkite-agent/builds/buildkite-windows-cpu-autoscaling-group-i-0fc7796c793e6356f-1/xgboost/xgboost-ci-windows/src/learner.cc:767: \n",
      "Parameters: { \"min_child-weight\" } are not used.\n",
      "\n",
      "[01:53:18] WARNING: C:/buildkite-agent/builds/buildkite-windows-cpu-autoscaling-group-i-0fc7796c793e6356f-1/xgboost/xgboost-ci-windows/src/learner.cc:767: \n",
      "Parameters: { \"min_child-weight\" } are not used.\n",
      "\n",
      "[01:53:18] WARNING: C:/buildkite-agent/builds/buildkite-windows-cpu-autoscaling-group-i-0fc7796c793e6356f-1/xgboost/xgboost-ci-windows/src/learner.cc:767: \n",
      "Parameters: { \"min_child-weight\" } are not used.\n",
      "\n",
      "[01:53:18] WARNING: C:/buildkite-agent/builds/buildkite-windows-cpu-autoscaling-group-i-0fc7796c793e6356f-1/xgboost/xgboost-ci-windows/src/learner.cc:767: \n",
      "Parameters: { \"min_child-weight\" } are not used.\n",
      "\n",
      "[01:53:18] WARNING: C:/buildkite-agent/builds/buildkite-windows-cpu-autoscaling-group-i-0fc7796c793e6356f-1/xgboost/xgboost-ci-windows/src/learner.cc:767: \n",
      "Parameters: { \"min_child-weight\" } are not used.\n",
      "\n",
      "[01:53:18] WARNING: C:/buildkite-agent/builds/buildkite-windows-cpu-autoscaling-group-i-0fc7796c793e6356f-1/xgboost/xgboost-ci-windows/src/learner.cc:767: \n",
      "Parameters: { \"min_child-weight\" } are not used.\n",
      "\n",
      "[01:53:18] WARNING: C:/buildkite-agent/builds/buildkite-windows-cpu-autoscaling-group-i-0fc7796c793e6356f-1/xgboost/xgboost-ci-windows/src/learner.cc:767: \n",
      "Parameters: { \"min_child-weight\" } are not used.\n",
      "\n",
      "[01:53:18] WARNING: C:/buildkite-agent/builds/buildkite-windows-cpu-autoscaling-group-i-0fc7796c793e6356f-1/xgboost/xgboost-ci-windows/src/learner.cc:767: \n",
      "Parameters: { \"min_child-weight\" } are not used.\n",
      "\n",
      "[01:53:18] WARNING: C:/buildkite-agent/builds/buildkite-windows-cpu-autoscaling-group-i-0fc7796c793e6356f-1/xgboost/xgboost-ci-windows/src/learner.cc:767: \n",
      "Parameters: { \"min_child-weight\" } are not used.\n",
      "\n",
      "[01:53:18] WARNING: C:/buildkite-agent/builds/buildkite-windows-cpu-autoscaling-group-i-0fc7796c793e6356f-1/xgboost/xgboost-ci-windows/src/learner.cc:767: \n",
      "Parameters: { \"min_child-weight\" } are not used.\n",
      "\n",
      "[01:53:18] WARNING: C:/buildkite-agent/builds/buildkite-windows-cpu-autoscaling-group-i-0fc7796c793e6356f-1/xgboost/xgboost-ci-windows/src/learner.cc:767: \n",
      "Parameters: { \"min_child-weight\" } are not used.\n",
      "\n",
      "[01:53:18] WARNING: C:/buildkite-agent/builds/buildkite-windows-cpu-autoscaling-group-i-0fc7796c793e6356f-1/xgboost/xgboost-ci-windows/src/learner.cc:767: \n",
      "Parameters: { \"min_child-weight\" } are not used.\n",
      "\n",
      "[01:53:18] WARNING: C:/buildkite-agent/builds/buildkite-windows-cpu-autoscaling-group-i-0fc7796c793e6356f-1/xgboost/xgboost-ci-windows/src/learner.cc:767: \n",
      "Parameters: { \"min_child-weight\" } are not used.\n",
      "\n",
      "[01:53:18] WARNING: C:/buildkite-agent/builds/buildkite-windows-cpu-autoscaling-group-i-0fc7796c793e6356f-1/xgboost/xgboost-ci-windows/src/learner.cc:767: \n",
      "Parameters: { \"min_child-weight\" } are not used.\n",
      "\n",
      "[01:53:18] WARNING: C:/buildkite-agent/builds/buildkite-windows-cpu-autoscaling-group-i-0fc7796c793e6356f-1/xgboost/xgboost-ci-windows/src/learner.cc:767: \n",
      "Parameters: { \"min_child-weight\" } are not used.\n",
      "\n",
      "[01:53:19] WARNING: C:/buildkite-agent/builds/buildkite-windows-cpu-autoscaling-group-i-0fc7796c793e6356f-1/xgboost/xgboost-ci-windows/src/learner.cc:767: \n",
      "Parameters: { \"min_child-weight\" } are not used.\n",
      "\n",
      "[01:53:20] WARNING: C:/buildkite-agent/builds/buildkite-windows-cpu-autoscaling-group-i-0fc7796c793e6356f-1/xgboost/xgboost-ci-windows/src/learner.cc:767: \n",
      "Parameters: { \"min_child-weight\" } are not used.\n",
      "\n"
     ]
    },
    {
     "data": {
      "text/plain": "GridSearchCV(cv=5,\n             estimator=XGBRegressor(base_score=None, booster=None,\n                                    callbacks=None, colsample_bylevel=None,\n                                    colsample_bynode=None,\n                                    colsample_bytree=None,\n                                    early_stopping_rounds=None,\n                                    enable_categorical=False, eval_metric=None,\n                                    feature_types=None, gamma=0, gpu_id=None,\n                                    grow_policy=None, importance_type=None,\n                                    interaction_constraints=None,\n                                    learning_rate=0.1, max_b...\n                                    max_cat_to_onehot=None, max_delta_step=None,\n                                    max_depth=5, max_leaves=None,\n                                    min_child_weight=None, missing=nan,\n                                    monotone_constraints=None, n_estimators=160,\n                                    n_jobs=None, num_parallel_tree=None,\n                                    objective='reg:gamma', predictor=None, ...),\n             param_grid=[{'max_depth': [3, 5, 7, 9],\n                          'min_child-weight': [1, 3, 5]},\n                         {'gamma': [0], 'n_estimators': [150, 160, 170, 180]}],\n             return_train_score=True, scoring='r2')",
      "text/html": "<style>#sk-container-id-6 {color: black;background-color: white;}#sk-container-id-6 pre{padding: 0;}#sk-container-id-6 div.sk-toggleable {background-color: white;}#sk-container-id-6 label.sk-toggleable__label {cursor: pointer;display: block;width: 100%;margin-bottom: 0;padding: 0.3em;box-sizing: border-box;text-align: center;}#sk-container-id-6 label.sk-toggleable__label-arrow:before {content: \"▸\";float: left;margin-right: 0.25em;color: #696969;}#sk-container-id-6 label.sk-toggleable__label-arrow:hover:before {color: black;}#sk-container-id-6 div.sk-estimator:hover label.sk-toggleable__label-arrow:before {color: black;}#sk-container-id-6 div.sk-toggleable__content {max-height: 0;max-width: 0;overflow: hidden;text-align: left;background-color: #f0f8ff;}#sk-container-id-6 div.sk-toggleable__content pre {margin: 0.2em;color: black;border-radius: 0.25em;background-color: #f0f8ff;}#sk-container-id-6 input.sk-toggleable__control:checked~div.sk-toggleable__content {max-height: 200px;max-width: 100%;overflow: auto;}#sk-container-id-6 input.sk-toggleable__control:checked~label.sk-toggleable__label-arrow:before {content: \"▾\";}#sk-container-id-6 div.sk-estimator input.sk-toggleable__control:checked~label.sk-toggleable__label {background-color: #d4ebff;}#sk-container-id-6 div.sk-label input.sk-toggleable__control:checked~label.sk-toggleable__label {background-color: #d4ebff;}#sk-container-id-6 input.sk-hidden--visually {border: 0;clip: rect(1px 1px 1px 1px);clip: rect(1px, 1px, 1px, 1px);height: 1px;margin: -1px;overflow: hidden;padding: 0;position: absolute;width: 1px;}#sk-container-id-6 div.sk-estimator {font-family: monospace;background-color: #f0f8ff;border: 1px dotted black;border-radius: 0.25em;box-sizing: border-box;margin-bottom: 0.5em;}#sk-container-id-6 div.sk-estimator:hover {background-color: #d4ebff;}#sk-container-id-6 div.sk-parallel-item::after {content: \"\";width: 100%;border-bottom: 1px solid gray;flex-grow: 1;}#sk-container-id-6 div.sk-label:hover label.sk-toggleable__label {background-color: #d4ebff;}#sk-container-id-6 div.sk-serial::before {content: \"\";position: absolute;border-left: 1px solid gray;box-sizing: border-box;top: 0;bottom: 0;left: 50%;z-index: 0;}#sk-container-id-6 div.sk-serial {display: flex;flex-direction: column;align-items: center;background-color: white;padding-right: 0.2em;padding-left: 0.2em;position: relative;}#sk-container-id-6 div.sk-item {position: relative;z-index: 1;}#sk-container-id-6 div.sk-parallel {display: flex;align-items: stretch;justify-content: center;background-color: white;position: relative;}#sk-container-id-6 div.sk-item::before, #sk-container-id-6 div.sk-parallel-item::before {content: \"\";position: absolute;border-left: 1px solid gray;box-sizing: border-box;top: 0;bottom: 0;left: 50%;z-index: -1;}#sk-container-id-6 div.sk-parallel-item {display: flex;flex-direction: column;z-index: 1;position: relative;background-color: white;}#sk-container-id-6 div.sk-parallel-item:first-child::after {align-self: flex-end;width: 50%;}#sk-container-id-6 div.sk-parallel-item:last-child::after {align-self: flex-start;width: 50%;}#sk-container-id-6 div.sk-parallel-item:only-child::after {width: 0;}#sk-container-id-6 div.sk-dashed-wrapped {border: 1px dashed gray;margin: 0 0.4em 0.5em 0.4em;box-sizing: border-box;padding-bottom: 0.4em;background-color: white;}#sk-container-id-6 div.sk-label label {font-family: monospace;font-weight: bold;display: inline-block;line-height: 1.2em;}#sk-container-id-6 div.sk-label-container {text-align: center;}#sk-container-id-6 div.sk-container {/* jupyter's `normalize.less` sets `[hidden] { display: none; }` but bootstrap.min.css set `[hidden] { display: none !important; }` so we also need the `!important` here to be able to override the default hidden behavior on the sphinx rendered scikit-learn.org. See: https://github.com/scikit-learn/scikit-learn/issues/21755 */display: inline-block !important;position: relative;}#sk-container-id-6 div.sk-text-repr-fallback {display: none;}</style><div id=\"sk-container-id-6\" class=\"sk-top-container\"><div class=\"sk-text-repr-fallback\"><pre>GridSearchCV(cv=5,\n             estimator=XGBRegressor(base_score=None, booster=None,\n                                    callbacks=None, colsample_bylevel=None,\n                                    colsample_bynode=None,\n                                    colsample_bytree=None,\n                                    early_stopping_rounds=None,\n                                    enable_categorical=False, eval_metric=None,\n                                    feature_types=None, gamma=0, gpu_id=None,\n                                    grow_policy=None, importance_type=None,\n                                    interaction_constraints=None,\n                                    learning_rate=0.1, max_b...\n                                    max_cat_to_onehot=None, max_delta_step=None,\n                                    max_depth=5, max_leaves=None,\n                                    min_child_weight=None, missing=nan,\n                                    monotone_constraints=None, n_estimators=160,\n                                    n_jobs=None, num_parallel_tree=None,\n                                    objective=&#x27;reg:gamma&#x27;, predictor=None, ...),\n             param_grid=[{&#x27;max_depth&#x27;: [3, 5, 7, 9],\n                          &#x27;min_child-weight&#x27;: [1, 3, 5]},\n                         {&#x27;gamma&#x27;: [0], &#x27;n_estimators&#x27;: [150, 160, 170, 180]}],\n             return_train_score=True, scoring=&#x27;r2&#x27;)</pre><b>In a Jupyter environment, please rerun this cell to show the HTML representation or trust the notebook. <br />On GitHub, the HTML representation is unable to render, please try loading this page with nbviewer.org.</b></div><div class=\"sk-container\" hidden><div class=\"sk-item sk-dashed-wrapped\"><div class=\"sk-label-container\"><div class=\"sk-label sk-toggleable\"><input class=\"sk-toggleable__control sk-hidden--visually\" id=\"sk-estimator-id-6\" type=\"checkbox\" ><label for=\"sk-estimator-id-6\" class=\"sk-toggleable__label sk-toggleable__label-arrow\">GridSearchCV</label><div class=\"sk-toggleable__content\"><pre>GridSearchCV(cv=5,\n             estimator=XGBRegressor(base_score=None, booster=None,\n                                    callbacks=None, colsample_bylevel=None,\n                                    colsample_bynode=None,\n                                    colsample_bytree=None,\n                                    early_stopping_rounds=None,\n                                    enable_categorical=False, eval_metric=None,\n                                    feature_types=None, gamma=0, gpu_id=None,\n                                    grow_policy=None, importance_type=None,\n                                    interaction_constraints=None,\n                                    learning_rate=0.1, max_b...\n                                    max_cat_to_onehot=None, max_delta_step=None,\n                                    max_depth=5, max_leaves=None,\n                                    min_child_weight=None, missing=nan,\n                                    monotone_constraints=None, n_estimators=160,\n                                    n_jobs=None, num_parallel_tree=None,\n                                    objective=&#x27;reg:gamma&#x27;, predictor=None, ...),\n             param_grid=[{&#x27;max_depth&#x27;: [3, 5, 7, 9],\n                          &#x27;min_child-weight&#x27;: [1, 3, 5]},\n                         {&#x27;gamma&#x27;: [0], &#x27;n_estimators&#x27;: [150, 160, 170, 180]}],\n             return_train_score=True, scoring=&#x27;r2&#x27;)</pre></div></div></div><div class=\"sk-parallel\"><div class=\"sk-parallel-item\"><div class=\"sk-item\"><div class=\"sk-label-container\"><div class=\"sk-label sk-toggleable\"><input class=\"sk-toggleable__control sk-hidden--visually\" id=\"sk-estimator-id-7\" type=\"checkbox\" ><label for=\"sk-estimator-id-7\" class=\"sk-toggleable__label sk-toggleable__label-arrow\">estimator: XGBRegressor</label><div class=\"sk-toggleable__content\"><pre>XGBRegressor(base_score=None, booster=None, callbacks=None,\n             colsample_bylevel=None, colsample_bynode=None,\n             colsample_bytree=None, early_stopping_rounds=None,\n             enable_categorical=False, eval_metric=None, feature_types=None,\n             gamma=0, gpu_id=None, grow_policy=None, importance_type=None,\n             interaction_constraints=None, learning_rate=0.1, max_bin=None,\n             max_cat_threshold=None, max_cat_to_onehot=None,\n             max_delta_step=None, max_depth=5, max_leaves=None,\n             min_child_weight=None, missing=nan, monotone_constraints=None,\n             n_estimators=160, n_jobs=None, num_parallel_tree=None,\n             objective=&#x27;reg:gamma&#x27;, predictor=None, ...)</pre></div></div></div><div class=\"sk-serial\"><div class=\"sk-item\"><div class=\"sk-estimator sk-toggleable\"><input class=\"sk-toggleable__control sk-hidden--visually\" id=\"sk-estimator-id-8\" type=\"checkbox\" ><label for=\"sk-estimator-id-8\" class=\"sk-toggleable__label sk-toggleable__label-arrow\">XGBRegressor</label><div class=\"sk-toggleable__content\"><pre>XGBRegressor(base_score=None, booster=None, callbacks=None,\n             colsample_bylevel=None, colsample_bynode=None,\n             colsample_bytree=None, early_stopping_rounds=None,\n             enable_categorical=False, eval_metric=None, feature_types=None,\n             gamma=0, gpu_id=None, grow_policy=None, importance_type=None,\n             interaction_constraints=None, learning_rate=0.1, max_bin=None,\n             max_cat_threshold=None, max_cat_to_onehot=None,\n             max_delta_step=None, max_depth=5, max_leaves=None,\n             min_child_weight=None, missing=nan, monotone_constraints=None,\n             n_estimators=160, n_jobs=None, num_parallel_tree=None,\n             objective=&#x27;reg:gamma&#x27;, predictor=None, ...)</pre></div></div></div></div></div></div></div></div></div></div>"
     },
     "execution_count": 323,
     "metadata": {},
     "output_type": "execute_result"
    }
   ],
   "source": [
    "params_grid = [\n",
    "    {'max_depth':[i for i in range(3,10,2)],\n",
    "     'min_child-weight':[i for i in range(1,6,2)]},\n",
    "    {'n_estimators':[150,160,170,180],\n",
    "     'gamma':[0]}\n",
    "]\n",
    "grid_search = GridSearchCV(\n",
    "    xgb_model,params_grid,cv=5,scoring='r2',return_train_score=True\n",
    ")\n",
    "grid_search.fit(x,y)"
   ],
   "metadata": {
    "collapsed": false
   }
  },
  {
   "cell_type": "code",
   "execution_count": 324,
   "outputs": [
    {
     "data": {
      "text/plain": "{'max_depth': 3, 'min_child-weight': 1}"
     },
     "execution_count": 324,
     "metadata": {},
     "output_type": "execute_result"
    }
   ],
   "source": [
    "grid_search.best_params_"
   ],
   "metadata": {
    "collapsed": false
   }
  },
  {
   "cell_type": "code",
   "execution_count": 325,
   "outputs": [
    {
     "data": {
      "text/plain": "XGBRegressor(base_score=None, booster=None, callbacks=None,\n             colsample_bylevel=None, colsample_bynode=None,\n             colsample_bytree=None, early_stopping_rounds=None,\n             enable_categorical=False, eval_metric=None, feature_types=None,\n             gamma=0, gpu_id=None, grow_policy=None, importance_type=None,\n             interaction_constraints=None, learning_rate=0.1, max_bin=None,\n             max_cat_threshold=None, max_cat_to_onehot=None,\n             max_delta_step=None, max_depth=3, max_leaves=None,\n             min_child-weight=1, min_child_weight=None, missing=nan,\n             monotone_constraints=None, n_estimators=160, n_jobs=None,\n             num_parallel_tree=None, objective='reg:gamma', ...)",
      "text/html": "<style>#sk-container-id-7 {color: black;background-color: white;}#sk-container-id-7 pre{padding: 0;}#sk-container-id-7 div.sk-toggleable {background-color: white;}#sk-container-id-7 label.sk-toggleable__label {cursor: pointer;display: block;width: 100%;margin-bottom: 0;padding: 0.3em;box-sizing: border-box;text-align: center;}#sk-container-id-7 label.sk-toggleable__label-arrow:before {content: \"▸\";float: left;margin-right: 0.25em;color: #696969;}#sk-container-id-7 label.sk-toggleable__label-arrow:hover:before {color: black;}#sk-container-id-7 div.sk-estimator:hover label.sk-toggleable__label-arrow:before {color: black;}#sk-container-id-7 div.sk-toggleable__content {max-height: 0;max-width: 0;overflow: hidden;text-align: left;background-color: #f0f8ff;}#sk-container-id-7 div.sk-toggleable__content pre {margin: 0.2em;color: black;border-radius: 0.25em;background-color: #f0f8ff;}#sk-container-id-7 input.sk-toggleable__control:checked~div.sk-toggleable__content {max-height: 200px;max-width: 100%;overflow: auto;}#sk-container-id-7 input.sk-toggleable__control:checked~label.sk-toggleable__label-arrow:before {content: \"▾\";}#sk-container-id-7 div.sk-estimator input.sk-toggleable__control:checked~label.sk-toggleable__label {background-color: #d4ebff;}#sk-container-id-7 div.sk-label input.sk-toggleable__control:checked~label.sk-toggleable__label {background-color: #d4ebff;}#sk-container-id-7 input.sk-hidden--visually {border: 0;clip: rect(1px 1px 1px 1px);clip: rect(1px, 1px, 1px, 1px);height: 1px;margin: -1px;overflow: hidden;padding: 0;position: absolute;width: 1px;}#sk-container-id-7 div.sk-estimator {font-family: monospace;background-color: #f0f8ff;border: 1px dotted black;border-radius: 0.25em;box-sizing: border-box;margin-bottom: 0.5em;}#sk-container-id-7 div.sk-estimator:hover {background-color: #d4ebff;}#sk-container-id-7 div.sk-parallel-item::after {content: \"\";width: 100%;border-bottom: 1px solid gray;flex-grow: 1;}#sk-container-id-7 div.sk-label:hover label.sk-toggleable__label {background-color: #d4ebff;}#sk-container-id-7 div.sk-serial::before {content: \"\";position: absolute;border-left: 1px solid gray;box-sizing: border-box;top: 0;bottom: 0;left: 50%;z-index: 0;}#sk-container-id-7 div.sk-serial {display: flex;flex-direction: column;align-items: center;background-color: white;padding-right: 0.2em;padding-left: 0.2em;position: relative;}#sk-container-id-7 div.sk-item {position: relative;z-index: 1;}#sk-container-id-7 div.sk-parallel {display: flex;align-items: stretch;justify-content: center;background-color: white;position: relative;}#sk-container-id-7 div.sk-item::before, #sk-container-id-7 div.sk-parallel-item::before {content: \"\";position: absolute;border-left: 1px solid gray;box-sizing: border-box;top: 0;bottom: 0;left: 50%;z-index: -1;}#sk-container-id-7 div.sk-parallel-item {display: flex;flex-direction: column;z-index: 1;position: relative;background-color: white;}#sk-container-id-7 div.sk-parallel-item:first-child::after {align-self: flex-end;width: 50%;}#sk-container-id-7 div.sk-parallel-item:last-child::after {align-self: flex-start;width: 50%;}#sk-container-id-7 div.sk-parallel-item:only-child::after {width: 0;}#sk-container-id-7 div.sk-dashed-wrapped {border: 1px dashed gray;margin: 0 0.4em 0.5em 0.4em;box-sizing: border-box;padding-bottom: 0.4em;background-color: white;}#sk-container-id-7 div.sk-label label {font-family: monospace;font-weight: bold;display: inline-block;line-height: 1.2em;}#sk-container-id-7 div.sk-label-container {text-align: center;}#sk-container-id-7 div.sk-container {/* jupyter's `normalize.less` sets `[hidden] { display: none; }` but bootstrap.min.css set `[hidden] { display: none !important; }` so we also need the `!important` here to be able to override the default hidden behavior on the sphinx rendered scikit-learn.org. See: https://github.com/scikit-learn/scikit-learn/issues/21755 */display: inline-block !important;position: relative;}#sk-container-id-7 div.sk-text-repr-fallback {display: none;}</style><div id=\"sk-container-id-7\" class=\"sk-top-container\"><div class=\"sk-text-repr-fallback\"><pre>XGBRegressor(base_score=None, booster=None, callbacks=None,\n             colsample_bylevel=None, colsample_bynode=None,\n             colsample_bytree=None, early_stopping_rounds=None,\n             enable_categorical=False, eval_metric=None, feature_types=None,\n             gamma=0, gpu_id=None, grow_policy=None, importance_type=None,\n             interaction_constraints=None, learning_rate=0.1, max_bin=None,\n             max_cat_threshold=None, max_cat_to_onehot=None,\n             max_delta_step=None, max_depth=3, max_leaves=None,\n             min_child-weight=1, min_child_weight=None, missing=nan,\n             monotone_constraints=None, n_estimators=160, n_jobs=None,\n             num_parallel_tree=None, objective=&#x27;reg:gamma&#x27;, ...)</pre><b>In a Jupyter environment, please rerun this cell to show the HTML representation or trust the notebook. <br />On GitHub, the HTML representation is unable to render, please try loading this page with nbviewer.org.</b></div><div class=\"sk-container\" hidden><div class=\"sk-item\"><div class=\"sk-estimator sk-toggleable\"><input class=\"sk-toggleable__control sk-hidden--visually\" id=\"sk-estimator-id-9\" type=\"checkbox\" checked><label for=\"sk-estimator-id-9\" class=\"sk-toggleable__label sk-toggleable__label-arrow\">XGBRegressor</label><div class=\"sk-toggleable__content\"><pre>XGBRegressor(base_score=None, booster=None, callbacks=None,\n             colsample_bylevel=None, colsample_bynode=None,\n             colsample_bytree=None, early_stopping_rounds=None,\n             enable_categorical=False, eval_metric=None, feature_types=None,\n             gamma=0, gpu_id=None, grow_policy=None, importance_type=None,\n             interaction_constraints=None, learning_rate=0.1, max_bin=None,\n             max_cat_threshold=None, max_cat_to_onehot=None,\n             max_delta_step=None, max_depth=3, max_leaves=None,\n             min_child-weight=1, min_child_weight=None, missing=nan,\n             monotone_constraints=None, n_estimators=160, n_jobs=None,\n             num_parallel_tree=None, objective=&#x27;reg:gamma&#x27;, ...)</pre></div></div></div></div></div>"
     },
     "execution_count": 325,
     "metadata": {},
     "output_type": "execute_result"
    }
   ],
   "source": [
    "grid_search.best_estimator_"
   ],
   "metadata": {
    "collapsed": false
   }
  },
  {
   "cell_type": "code",
   "execution_count": 326,
   "outputs": [
    {
     "data": {
      "text/plain": "{'max_depth': 3, 'min_child-weight': 1}"
     },
     "execution_count": 326,
     "metadata": {},
     "output_type": "execute_result"
    }
   ],
   "source": [
    "grid_search.best_params_"
   ],
   "metadata": {
    "collapsed": false
   }
  },
  {
   "cell_type": "code",
   "execution_count": 327,
   "outputs": [
    {
     "data": {
      "text/plain": "0"
     },
     "execution_count": 327,
     "metadata": {},
     "output_type": "execute_result"
    }
   ],
   "source": [
    "grid_search.best_index_"
   ],
   "metadata": {
    "collapsed": false
   }
  },
  {
   "cell_type": "code",
   "execution_count": 328,
   "outputs": [
    {
     "data": {
      "text/plain": "0.5201352685981732"
     },
     "execution_count": 328,
     "metadata": {},
     "output_type": "execute_result"
    }
   ],
   "source": [
    "grid_search.best_score_"
   ],
   "metadata": {
    "collapsed": false
   }
  },
  {
   "cell_type": "code",
   "execution_count": 274,
   "outputs": [],
   "source": [
    "\n",
    "x_train,x_test,y_train,y_test  = train_test_split(x,y,train_size=0.8)"
   ],
   "metadata": {
    "collapsed": false
   }
  },
  {
   "cell_type": "code",
   "execution_count": 277,
   "outputs": [
    {
     "data": {
      "text/plain": "<Figure size 200x200 with 1 Axes>",
      "image/png": "[encoded data removed]"
     },
     "metadata": {},
     "output_type": "display_data"
    }
   ],
   "source": [
    "xgb_model.fit(x_train,y_train)\n",
    "\n",
    "# 对测试集进行预测\n",
    "ans = xgb_model.predict(x_test)\n",
    "\n",
    "# 显示重要特征\n",
    "plot_importance(xgb_model)\n",
    "plt.show()"
   ],
   "metadata": {
    "collapsed": false
   }
  },
  {
   "cell_type": "code",
   "execution_count": 278,
   "outputs": [
    {
     "data": {
      "text/plain": "array([ 176.1251  ,   94.35757 ,   67.34588 ,  184.8778  ,  136.31364 ,\n        336.35004 ,   16.438759,   62.08807 ,   48.88438 ,  141.9284  ,\n         38.03021 ,   28.70683 , 1528.3624  ,  103.47538 ,  749.0823  ,\n        157.7274  ,  229.80049 ,   74.88544 ,   60.059513,  256.1038  ,\n         87.5161  ,  539.3878  ,   92.679306,  152.87405 ,   23.310532],\n      dtype=float32)"
     },
     "execution_count": 278,
     "metadata": {},
     "output_type": "execute_result"
    }
   ],
   "source": [
    "ans"
   ],
   "metadata": {
    "collapsed": false
   }
  },
  {
   "cell_type": "code",
   "execution_count": 279,
   "outputs": [
    {
     "data": {
      "text/plain": "124.78022622680666"
     },
     "execution_count": 279,
     "metadata": {},
     "output_type": "execute_result"
    }
   ],
   "source": [
    "metrics.mean_absolute_error(ans,y_test)"
   ],
   "metadata": {
    "collapsed": false
   }
  },
  {
   "cell_type": "code",
   "execution_count": 281,
   "outputs": [
    {
     "data": {
      "text/plain": "48804.18146135881"
     },
     "execution_count": 281,
     "metadata": {},
     "output_type": "execute_result"
    }
   ],
   "source": [
    "metrics.mean_squared_error(ans,y_test)"
   ],
   "metadata": {
    "collapsed": false
   }
  },
  {
   "cell_type": "code",
   "execution_count": 282,
   "outputs": [
    {
     "data": {
      "text/plain": "(0.9990596448818264, 0.7562223779437524)"
     },
     "execution_count": 282,
     "metadata": {},
     "output_type": "execute_result"
    }
   ],
   "source": [
    "# xgb_model.score()\n",
    "xgb_model.score(x_train,y_train),xgb_model.score(x_test,y_test)"
   ],
   "metadata": {
    "collapsed": false
   }
  },
  {
   "cell_type": "code",
   "execution_count": 285,
   "outputs": [],
   "source": [
    "cv = KFold(n_splits=3,shuffle=True,random_state=100)"
   ],
   "metadata": {
    "collapsed": false
   }
  },
  {
   "cell_type": "markdown",
   "source": [
    "`cv`:`cross_validation generator`"
   ],
   "metadata": {
    "collapsed": false
   }
  },
  {
   "cell_type": "code",
   "execution_count": 286,
   "outputs": [],
   "source": [
    "from sklearn.model_selection import cross_val_score,cross_validate\n",
    "score = cross_val_score(xgb_model,x,y,cv=cv,scoring='r2')"
   ],
   "metadata": {
    "collapsed": false
   }
  },
  {
   "cell_type": "code",
   "execution_count": 0,
   "outputs": [],
   "source": [
    "score"
   ],
   "metadata": {
    "collapsed": false
   }
  }
 ],
 "metadata": {
  "kernelspec": {
   "display_name": "Python 3",
   "language": "python",
   "name": "python3"
  },
  "language_info": {
   "codemirror_mode": {
    "name": "ipython",
    "version": 2
   },
   "file_extension": ".py",
   "mimetype": "text/x-python",
   "name": "python",
   "nbconvert_exporter": "python",
   "pygments_lexer": "ipython2",
   "version": "2.7.6"
  }
 },
 "nbformat": 4,
 "nbformat_minor": 0
}
