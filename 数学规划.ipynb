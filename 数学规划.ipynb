{
 "cells": [
  {
   "cell_type": "markdown",
   "source": [
    "# 数学规划模型"
   ],
   "metadata": {
    "collapsed": false
   }
  },
  {
   "cell_type": "markdown",
   "source": [
    "数学规划模型基本可以分为以下几种：\n",
    "+ 线性规划\n",
    "+ 整数规划\n",
    "+ 0-1规划\n",
    "+ 非线性规划"
   ],
   "metadata": {
    "collapsed": false
   }
  },
  {
   "cell_type": "markdown",
   "source": [
    "**问题一：**\n",
    "料场投料问题：\n",
    "<img src=\"https://img-blog.csdnimg.cn/20210130104717756.png?x-oss-process=image/watermark,type_ZmFuZ3poZW5naGVpdGk,shadow_10,text_aHR0cHM6Ly9ibG9nLmNzZG4ubmV0L3dlaXhpbl80NTcxNzA1NQ==,size_16,color_FFFFFF,t_70\">"
   ],
   "metadata": {
    "collapsed": false
   }
  },
  {
   "cell_type": "markdown",
   "source": [
    "列出方程式：\n",
    "$$\n",
    "min Z = \\sum_{i=1}^{\\sigma} \\sum_{j=1}^{ \\epsilon} \\sqrt{(a_i - xi) ^ 2 + ( b_i - y_i) ^2} \\\\\n",
    "s.t.\n",
    "\\begin{cases}\n",
    "\\sum_{j=1}^{z} X_{ij} <= 20 \\\\\n",
    "X_{ij} >=0\n",
    "\\end{cases}\n",
    "$$"
   ],
   "metadata": {
    "collapsed": false
   }
  },
  {
   "cell_type": "code",
   "execution_count": 1,
   "metadata": {
    "collapsed": true
   },
   "outputs": [],
   "source": [
    "# 第一步，导入包\n",
    "import numpy as np\n",
    "from scipy import optimize as op\n",
    "import math"
   ]
  },
  {
   "cell_type": "code",
   "execution_count": null,
   "outputs": [],
   "source": [],
   "metadata": {
    "collapsed": false
   }
  }
 ],
 "metadata": {
  "kernelspec": {
   "display_name": "Python 3",
   "language": "python",
   "name": "python3"
  },
  "language_info": {
   "codemirror_mode": {
    "name": "ipython",
    "version": 2
   },
   "file_extension": ".py",
   "mimetype": "text/x-python",
   "name": "python",
   "nbconvert_exporter": "python",
   "pygments_lexer": "ipython2",
   "version": "2.7.6"
  }
 },
 "nbformat": 4,
 "nbformat_minor": 0
}
