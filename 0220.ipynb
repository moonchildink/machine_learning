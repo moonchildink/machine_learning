{
 "cells": [
  {
   "cell_type": "code",
   "execution_count": 17,
   "metadata": {
    "collapsed": true
   },
   "outputs": [],
   "source": [
    "import numpy as np\n",
    "import matplotlib.pyplot as plt\n",
    "import pandas as pd\n",
    "\n",
    "plt.rcParams[\"font.sans-serif\"] = [\"SimHei\"]  #设置字体\n",
    "plt.rcParams[\"axes.unicode_minus\"] = False  #该语句解决图像中的“-”负号的乱码问题\n",
    "from sklearn.ensemble import RandomForestRegressor\n",
    "from sklearn.svm import SVR\n",
    "import os\n",
    "\n",
    "os.chdir(r'D:\\pycharm-python\\datasets')\n",
    "import seaborn as sns\n",
    "\n",
    "sns.set_theme(style='whitegrid')\n",
    "from sklearn.model_selection import KFold, cross_val_score, cross_validate, GridSearchCV\n",
    "from sklearn import metrics\n",
    "import scipy"
   ]
  },
  {
   "cell_type": "code",
   "execution_count": 24,
   "outputs": [],
   "source": [
    "def load_data():\n",
    "    df = pd.read_csv(r'0219_train_data.csv')\n",
    "    df = df.drop(['Unnamed: 0'], axis=1)\n",
    "    new_df = df.copy()\n",
    "    arr = np.array(new_df)[:, 2:]\n",
    "    x = arr.copy()\n",
    "    # y = arr[:, -1:].copy()\n",
    "    return df, x"
   ],
   "metadata": {
    "collapsed": false
   }
  },
  {
   "cell_type": "code",
   "execution_count": 25,
   "outputs": [],
   "source": [
    "df,x = load_data()"
   ],
   "metadata": {
    "collapsed": false
   }
  },
  {
   "cell_type": "code",
   "execution_count": 26,
   "outputs": [
    {
     "data": {
      "text/plain": "         GDP  PopDenity  Urban_rate      Cars    Elec       DN\n0     362.38   23222.00       93.18    4.1205    5.50   310.49\n1     286.02    1337.00       50.94    4.8136    3.27    31.47\n2     131.03    1364.00       44.23    9.9600   12.52    18.16\n3      68.37      66.00       30.54    0.9496    1.68     7.15\n4    1404.70    2045.00       85.87  106.0000  335.90  2147.46\n..       ...        ...         ...       ...     ...      ...\n118    53.21     205.62       35.21    2.5500   12.20    15.74\n119  1125.46    1462.73       59.22  124.5900  344.83   856.36\n120   294.22     365.68       41.18   30.3800  107.92   236.13\n121   180.78     192.17       38.58   20.7900  124.70   104.23\n122   191.37     402.41       43.11   13.6500   66.70    49.91\n\n[123 rows x 6 columns]",
      "text/html": "<div>\n<style scoped>\n    .dataframe tbody tr th:only-of-type {\n        vertical-align: middle;\n    }\n\n    .dataframe tbody tr th {\n        vertical-align: top;\n    }\n\n    .dataframe thead th {\n        text-align: right;\n    }\n</style>\n<table border=\"1\" class=\"dataframe\">\n  <thead>\n    <tr style=\"text-align: right;\">\n      <th></th>\n      <th>GDP</th>\n      <th>PopDenity</th>\n      <th>Urban_rate</th>\n      <th>Cars</th>\n      <th>Elec</th>\n      <th>DN</th>\n    </tr>\n  </thead>\n  <tbody>\n    <tr>\n      <th>0</th>\n      <td>362.38</td>\n      <td>23222.00</td>\n      <td>93.18</td>\n      <td>4.1205</td>\n      <td>5.50</td>\n      <td>310.49</td>\n    </tr>\n    <tr>\n      <th>1</th>\n      <td>286.02</td>\n      <td>1337.00</td>\n      <td>50.94</td>\n      <td>4.8136</td>\n      <td>3.27</td>\n      <td>31.47</td>\n    </tr>\n    <tr>\n      <th>2</th>\n      <td>131.03</td>\n      <td>1364.00</td>\n      <td>44.23</td>\n      <td>9.9600</td>\n      <td>12.52</td>\n      <td>18.16</td>\n    </tr>\n    <tr>\n      <th>3</th>\n      <td>68.37</td>\n      <td>66.00</td>\n      <td>30.54</td>\n      <td>0.9496</td>\n      <td>1.68</td>\n      <td>7.15</td>\n    </tr>\n    <tr>\n      <th>4</th>\n      <td>1404.70</td>\n      <td>2045.00</td>\n      <td>85.87</td>\n      <td>106.0000</td>\n      <td>335.90</td>\n      <td>2147.46</td>\n    </tr>\n    <tr>\n      <th>...</th>\n      <td>...</td>\n      <td>...</td>\n      <td>...</td>\n      <td>...</td>\n      <td>...</td>\n      <td>...</td>\n    </tr>\n    <tr>\n      <th>118</th>\n      <td>53.21</td>\n      <td>205.62</td>\n      <td>35.21</td>\n      <td>2.5500</td>\n      <td>12.20</td>\n      <td>15.74</td>\n    </tr>\n    <tr>\n      <th>119</th>\n      <td>1125.46</td>\n      <td>1462.73</td>\n      <td>59.22</td>\n      <td>124.5900</td>\n      <td>344.83</td>\n      <td>856.36</td>\n    </tr>\n    <tr>\n      <th>120</th>\n      <td>294.22</td>\n      <td>365.68</td>\n      <td>41.18</td>\n      <td>30.3800</td>\n      <td>107.92</td>\n      <td>236.13</td>\n    </tr>\n    <tr>\n      <th>121</th>\n      <td>180.78</td>\n      <td>192.17</td>\n      <td>38.58</td>\n      <td>20.7900</td>\n      <td>124.70</td>\n      <td>104.23</td>\n    </tr>\n    <tr>\n      <th>122</th>\n      <td>191.37</td>\n      <td>402.41</td>\n      <td>43.11</td>\n      <td>13.6500</td>\n      <td>66.70</td>\n      <td>49.91</td>\n    </tr>\n  </tbody>\n</table>\n<p>123 rows × 6 columns</p>\n</div>"
     },
     "execution_count": 26,
     "metadata": {},
     "output_type": "execute_result"
    }
   ],
   "source": [
    "df1 = df.drop(['Province','City'],axis=1)\n",
    "df1"
   ],
   "metadata": {
    "collapsed": false
   }
  },
  {
   "cell_type": "markdown",
   "source": [
    "1. 第一步，统筹指标方向。由于我们全部都是正向指标，所以不需要这一步。"
   ],
   "metadata": {
    "collapsed": false
   }
  },
  {
   "cell_type": "code",
   "execution_count": 27,
   "outputs": [],
   "source": [
    "for column in df1.columns:\n",
    "    df1[column] = df1[column].apply(\n",
    "        lambda x:x/np.sum(df1[column])\n",
    "    )"
   ],
   "metadata": {
    "collapsed": false
   }
  },
  {
   "cell_type": "code",
   "execution_count": 28,
   "outputs": [
    {
     "data": {
      "text/plain": "        GDP  PopDenity  Urban_rate      Cars      Elec        DN\n0  0.003581   0.108461    0.013766  0.000414  0.000505  0.006777\n1  0.002826   0.006245    0.007525  0.000484  0.000300  0.000687\n2  0.001295   0.006371    0.006534  0.001000  0.001149  0.000396\n3  0.000676   0.000308    0.004512  0.000095  0.000154  0.000156\n4  0.013881   0.009551    0.012686  0.010647  0.030821  0.046871",
      "text/html": "<div>\n<style scoped>\n    .dataframe tbody tr th:only-of-type {\n        vertical-align: middle;\n    }\n\n    .dataframe tbody tr th {\n        vertical-align: top;\n    }\n\n    .dataframe thead th {\n        text-align: right;\n    }\n</style>\n<table border=\"1\" class=\"dataframe\">\n  <thead>\n    <tr style=\"text-align: right;\">\n      <th></th>\n      <th>GDP</th>\n      <th>PopDenity</th>\n      <th>Urban_rate</th>\n      <th>Cars</th>\n      <th>Elec</th>\n      <th>DN</th>\n    </tr>\n  </thead>\n  <tbody>\n    <tr>\n      <th>0</th>\n      <td>0.003581</td>\n      <td>0.108461</td>\n      <td>0.013766</td>\n      <td>0.000414</td>\n      <td>0.000505</td>\n      <td>0.006777</td>\n    </tr>\n    <tr>\n      <th>1</th>\n      <td>0.002826</td>\n      <td>0.006245</td>\n      <td>0.007525</td>\n      <td>0.000484</td>\n      <td>0.000300</td>\n      <td>0.000687</td>\n    </tr>\n    <tr>\n      <th>2</th>\n      <td>0.001295</td>\n      <td>0.006371</td>\n      <td>0.006534</td>\n      <td>0.001000</td>\n      <td>0.001149</td>\n      <td>0.000396</td>\n    </tr>\n    <tr>\n      <th>3</th>\n      <td>0.000676</td>\n      <td>0.000308</td>\n      <td>0.004512</td>\n      <td>0.000095</td>\n      <td>0.000154</td>\n      <td>0.000156</td>\n    </tr>\n    <tr>\n      <th>4</th>\n      <td>0.013881</td>\n      <td>0.009551</td>\n      <td>0.012686</td>\n      <td>0.010647</td>\n      <td>0.030821</td>\n      <td>0.046871</td>\n    </tr>\n  </tbody>\n</table>\n</div>"
     },
     "execution_count": 28,
     "metadata": {},
     "output_type": "execute_result"
    }
   ],
   "source": [
    "df1.head()"
   ],
   "metadata": {
    "collapsed": false
   }
  },
  {
   "cell_type": "code",
   "execution_count": 29,
   "outputs": [
    {
     "data": {
      "text/plain": "0    0.108461\n1    0.006245\n2    0.006371\n3    0.000308\n4    0.009551\nName: PopDenity, dtype: float64"
     },
     "execution_count": 29,
     "metadata": {},
     "output_type": "execute_result"
    }
   ],
   "source": [
    "df1.iloc[:,1].head()"
   ],
   "metadata": {
    "collapsed": false
   }
  },
  {
   "cell_type": "code",
   "execution_count": 30,
   "outputs": [],
   "source": [
    "# 计算信息熵\n",
    "K = 1/ np.log(df1.shape[0])\n",
    "Entroy = []\n",
    "for i in range(df1.shape[1]):\n",
    "    e_j = -K * np.sum(df1.iloc[:,i]*np.log(df1.iloc[:,i]))\n",
    "    Entroy.append(e_j)"
   ],
   "metadata": {
    "collapsed": false
   }
  },
  {
   "cell_type": "code",
   "execution_count": 31,
   "outputs": [
    {
     "data": {
      "text/plain": "[0.7744669746960875,\n 0.5959345792054515,\n 0.9897880784094099,\n 0.8781225706201302,\n 0.8136135893684291,\n 0.8519041185797136]"
     },
     "execution_count": 31,
     "metadata": {},
     "output_type": "execute_result"
    }
   ],
   "source": [
    "Entroy"
   ],
   "metadata": {
    "collapsed": false
   }
  },
  {
   "cell_type": "code",
   "execution_count": 32,
   "outputs": [
    {
     "ename": "TypeError",
     "evalue": "'numpy.float64' object is not callable",
     "output_type": "error",
     "traceback": [
      "\u001B[1;31m---------------------------------------------------------------------------\u001B[0m",
      "\u001B[1;31mTypeError\u001B[0m                                 Traceback (most recent call last)",
      "Cell \u001B[1;32mIn[32], line 2\u001B[0m\n\u001B[0;32m      1\u001B[0m D_j \u001B[38;5;241m=\u001B[39m [\u001B[38;5;241m1\u001B[39m\u001B[38;5;241m-\u001B[39mi \u001B[38;5;28;01mfor\u001B[39;00m i \u001B[38;5;129;01min\u001B[39;00m Entroy]\n\u001B[1;32m----> 2\u001B[0m \u001B[38;5;28msum\u001B[39m \u001B[38;5;241m=\u001B[39m \u001B[38;5;28;43msum\u001B[39;49m\u001B[43m(\u001B[49m\u001B[43mD_j\u001B[49m\u001B[43m)\u001B[49m\n\u001B[0;32m      3\u001B[0m W_j \u001B[38;5;241m=\u001B[39m [i\u001B[38;5;241m/\u001B[39m\u001B[38;5;28msum\u001B[39m \u001B[38;5;28;01mfor\u001B[39;00m i \u001B[38;5;129;01min\u001B[39;00m D_j]\n",
      "\u001B[1;31mTypeError\u001B[0m: 'numpy.float64' object is not callable"
     ]
    }
   ],
   "source": [
    "D_j = [1-i for i in Entroy]\n",
    "sum = sum(D_j)\n",
    "W_j = [i/sum for i in D_j]"
   ],
   "metadata": {
    "collapsed": false
   }
  },
  {
   "cell_type": "code",
   "execution_count": 33,
   "outputs": [
    {
     "data": {
      "text/plain": "[0.2057463778133275,\n 0.3686156234372746,\n 0.009316000949068932,\n 0.11118477925047733,\n 0.1700342058968866,\n 0.13510301265296512]"
     },
     "execution_count": 33,
     "metadata": {},
     "output_type": "execute_result"
    }
   ],
   "source": [
    " W_j"
   ],
   "metadata": {
    "collapsed": false
   }
  },
  {
   "cell_type": "markdown",
   "source": [
    "### 结合TOPSIS进行加权"
   ],
   "metadata": {
    "collapsed": false
   }
  },
  {
   "cell_type": "markdown",
   "source": [
    "1. 指标同向化，由于我们所有的指标都是正向指标。所以我们不需要进行同质化。\n",
    "2. 规范化矩阵。\n"
   ],
   "metadata": {
    "collapsed": false
   }
  },
  {
   "cell_type": "code",
   "execution_count": 34,
   "outputs": [
    {
     "data": {
      "text/plain": "0    0.108461\n1    0.006245\n2    0.006371\n3    0.000308\n4    0.009551\nName: PopDenity, dtype: float64"
     },
     "execution_count": 34,
     "metadata": {},
     "output_type": "execute_result"
    }
   ],
   "source": [
    "column = df1.columns[1]\n",
    "column\n",
    "df1[column].head()"
   ],
   "metadata": {
    "collapsed": false
   }
  },
  {
   "cell_type": "code",
   "execution_count": 35,
   "outputs": [],
   "source": [
    "maxs = []\n",
    "mins = []\n",
    "for column in df1.columns:\n",
    "    maxs.append(np.max(df1[column]))\n",
    "    mins.append(np.min(df1[column]))"
   ],
   "metadata": {
    "collapsed": false
   }
  },
  {
   "cell_type": "code",
   "execution_count": 36,
   "outputs": [
    {
     "data": {
      "text/plain": "0.007525494940899603"
     },
     "execution_count": 36,
     "metadata": {},
     "output_type": "execute_result"
    }
   ],
   "source": [
    "df1.shape\n",
    "# max_array = np.vstack(maxs,)\n",
    "df1.iloc[1,2]"
   ],
   "metadata": {
    "collapsed": false
   }
  },
  {
   "cell_type": "code",
   "execution_count": 37,
   "outputs": [],
   "source": [
    "D_plus = []\n",
    "D_minus = []\n",
    "for i in range(df1.shape[0]):\n",
    "    D_sum = 0\n",
    "    d_sum = 0\n",
    "    for j in range(df1.shape[-1]):\n",
    "        D_sum+=W_j[j]*(df1.iloc[i,j]-maxs[j])**2\n",
    "        d_sum+=W_j[j]*(df1.iloc[i,j]-mins[j])**2\n",
    "    D_plus.append(np.sqrt(D_sum))\n",
    "    D_minus.append(np.sqrt(d_sum))\n"
   ],
   "metadata": {
    "collapsed": false
   }
  },
  {
   "cell_type": "code",
   "execution_count": null,
   "outputs": [],
   "source": [],
   "metadata": {
    "collapsed": false
   }
  }
 ],
 "metadata": {
  "kernelspec": {
   "display_name": "Python 3",
   "language": "python",
   "name": "python3"
  },
  "language_info": {
   "codemirror_mode": {
    "name": "ipython",
    "version": 2
   },
   "file_extension": ".py",
   "mimetype": "text/x-python",
   "name": "python",
   "nbconvert_exporter": "python",
   "pygments_lexer": "ipython2",
   "version": "2.7.6"
  }
 },
 "nbformat": 4,
 "nbformat_minor": 0
}
