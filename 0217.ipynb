{
 "cells": [
  {
   "cell_type": "code",
   "execution_count": 39,
   "metadata": {
    "collapsed": true
   },
   "outputs": [],
   "source": [
    "import matplotlib.pyplot as plt\n",
    "\n",
    "plt.rcParams[\"font.sans-serif\"] = [\"SimHei\"]  #设置字体\n",
    "plt.rcParams[\"axes.unicode_minus\"] = False  #该语句解决图像中的“-”负号的乱码问题\n",
    "import pandas as pd\n",
    "import numpy as np"
   ]
  },
  {
   "cell_type": "code",
   "execution_count": 40,
   "outputs": [
    {
     "data": {
      "text/plain": "  Province Prefecture County  Year Month DNvalue\n0     省份名称       城市名称   县区名称    年度    月份    DN均值\n1      安徽省        安庆市    大观区  2013    01    2.81\n2      安徽省        安庆市    大观区  2013    02    2.06\n3      安徽省        安庆市    大观区  2013    03    2.17\n4      安徽省        安庆市    大观区  2013    04    2.63",
      "text/html": "<div>\n<style scoped>\n    .dataframe tbody tr th:only-of-type {\n        vertical-align: middle;\n    }\n\n    .dataframe tbody tr th {\n        vertical-align: top;\n    }\n\n    .dataframe thead th {\n        text-align: right;\n    }\n</style>\n<table border=\"1\" class=\"dataframe\">\n  <thead>\n    <tr style=\"text-align: right;\">\n      <th></th>\n      <th>Province</th>\n      <th>Prefecture</th>\n      <th>County</th>\n      <th>Year</th>\n      <th>Month</th>\n      <th>DNvalue</th>\n    </tr>\n  </thead>\n  <tbody>\n    <tr>\n      <th>0</th>\n      <td>省份名称</td>\n      <td>城市名称</td>\n      <td>县区名称</td>\n      <td>年度</td>\n      <td>月份</td>\n      <td>DN均值</td>\n    </tr>\n    <tr>\n      <th>1</th>\n      <td>安徽省</td>\n      <td>安庆市</td>\n      <td>大观区</td>\n      <td>2013</td>\n      <td>01</td>\n      <td>2.81</td>\n    </tr>\n    <tr>\n      <th>2</th>\n      <td>安徽省</td>\n      <td>安庆市</td>\n      <td>大观区</td>\n      <td>2013</td>\n      <td>02</td>\n      <td>2.06</td>\n    </tr>\n    <tr>\n      <th>3</th>\n      <td>安徽省</td>\n      <td>安庆市</td>\n      <td>大观区</td>\n      <td>2013</td>\n      <td>03</td>\n      <td>2.17</td>\n    </tr>\n    <tr>\n      <th>4</th>\n      <td>安徽省</td>\n      <td>安庆市</td>\n      <td>大观区</td>\n      <td>2013</td>\n      <td>04</td>\n      <td>2.63</td>\n    </tr>\n  </tbody>\n</table>\n</div>"
     },
     "execution_count": 40,
     "metadata": {},
     "output_type": "execute_result"
    }
   ],
   "source": [
    "# df = pd.read_csv(r\"D:\\pycharm-python\\datasets\\VIIRS中国各县区灯光数据.csv\")\n",
    "df = pd.read_excel(r\"D:\\documents\\VIIRS中国各县区灯光数据.xlsx\")\n",
    "df.head()"
   ],
   "metadata": {
    "collapsed": false
   }
  },
  {
   "cell_type": "code",
   "execution_count": 41,
   "outputs": [
    {
     "data": {
      "text/plain": "array(['丁青县', '七星关区', '七星区', ..., '龙门县', '龙陵县', '龙马潭区'], dtype=object)"
     },
     "execution_count": 41,
     "metadata": {},
     "output_type": "execute_result"
    }
   ],
   "source": [
    "county = np.unique(df['County'])\n",
    "# len(county)\n",
    "county"
   ],
   "metadata": {
    "collapsed": false
   }
  },
  {
   "cell_type": "code",
   "execution_count": 42,
   "outputs": [
    {
     "data": {
      "text/plain": "2801"
     },
     "execution_count": 42,
     "metadata": {},
     "output_type": "execute_result"
    }
   ],
   "source": [
    "len(county)"
   ],
   "metadata": {
    "collapsed": false
   }
  },
  {
   "cell_type": "code",
   "execution_count": 43,
   "outputs": [],
   "source": [
    "df = df.drop([0],axis=0)"
   ],
   "metadata": {
    "collapsed": false
   }
  },
  {
   "cell_type": "code",
   "execution_count": 44,
   "outputs": [
    {
     "name": "stdout",
     "output_type": "stream",
     "text": [
      "<class 'pandas.core.frame.DataFrame'>\n",
      "RangeIndex: 240957 entries, 1 to 240957\n",
      "Data columns (total 6 columns):\n",
      " #   Column      Non-Null Count   Dtype  \n",
      "---  ------      --------------   -----  \n",
      " 0   Province    240957 non-null  object \n",
      " 1   Prefecture  240957 non-null  object \n",
      " 2   County      240957 non-null  object \n",
      " 3   Year        240957 non-null  object \n",
      " 4   Month       240957 non-null  object \n",
      " 5   DNvalue     240957 non-null  float64\n",
      "dtypes: float64(1), object(5)\n",
      "memory usage: 11.0+ MB\n"
     ]
    }
   ],
   "source": [
    "df['DNvalue'] = pd.to_numeric(df['DNvalue'])\n",
    "df.info()"
   ],
   "metadata": {
    "collapsed": false
   }
  },
  {
   "cell_type": "code",
   "execution_count": 45,
   "outputs": [
    {
     "data": {
      "text/plain": "       Province Prefecture County  Year Month  DNvalue\n61          安徽省        安庆市    大观区  2018    01     3.26\n62          安徽省        安庆市    大观区  2018    02     4.66\n63          安徽省        安庆市    大观区  2018    03     4.85\n64          安徽省        安庆市    大观区  2018    04     6.08\n65          安徽省        安庆市    大观区  2018    05     3.58\n...         ...        ...    ...   ...   ...      ...\n240939      重庆市          县     忠县  2018    08     1.52\n240940      重庆市          县     忠县  2018    09     1.31\n240941      重庆市          县     忠县  2018    10     1.52\n240942      重庆市          县     忠县  2018    11     2.04\n240943      重庆市          县     忠县  2018    12     0.32\n\n[31207 rows x 6 columns]",
      "text/html": "<div>\n<style scoped>\n    .dataframe tbody tr th:only-of-type {\n        vertical-align: middle;\n    }\n\n    .dataframe tbody tr th {\n        vertical-align: top;\n    }\n\n    .dataframe thead th {\n        text-align: right;\n    }\n</style>\n<table border=\"1\" class=\"dataframe\">\n  <thead>\n    <tr style=\"text-align: right;\">\n      <th></th>\n      <th>Province</th>\n      <th>Prefecture</th>\n      <th>County</th>\n      <th>Year</th>\n      <th>Month</th>\n      <th>DNvalue</th>\n    </tr>\n  </thead>\n  <tbody>\n    <tr>\n      <th>61</th>\n      <td>安徽省</td>\n      <td>安庆市</td>\n      <td>大观区</td>\n      <td>2018</td>\n      <td>01</td>\n      <td>3.26</td>\n    </tr>\n    <tr>\n      <th>62</th>\n      <td>安徽省</td>\n      <td>安庆市</td>\n      <td>大观区</td>\n      <td>2018</td>\n      <td>02</td>\n      <td>4.66</td>\n    </tr>\n    <tr>\n      <th>63</th>\n      <td>安徽省</td>\n      <td>安庆市</td>\n      <td>大观区</td>\n      <td>2018</td>\n      <td>03</td>\n      <td>4.85</td>\n    </tr>\n    <tr>\n      <th>64</th>\n      <td>安徽省</td>\n      <td>安庆市</td>\n      <td>大观区</td>\n      <td>2018</td>\n      <td>04</td>\n      <td>6.08</td>\n    </tr>\n    <tr>\n      <th>65</th>\n      <td>安徽省</td>\n      <td>安庆市</td>\n      <td>大观区</td>\n      <td>2018</td>\n      <td>05</td>\n      <td>3.58</td>\n    </tr>\n    <tr>\n      <th>...</th>\n      <td>...</td>\n      <td>...</td>\n      <td>...</td>\n      <td>...</td>\n      <td>...</td>\n      <td>...</td>\n    </tr>\n    <tr>\n      <th>240939</th>\n      <td>重庆市</td>\n      <td>县</td>\n      <td>忠县</td>\n      <td>2018</td>\n      <td>08</td>\n      <td>1.52</td>\n    </tr>\n    <tr>\n      <th>240940</th>\n      <td>重庆市</td>\n      <td>县</td>\n      <td>忠县</td>\n      <td>2018</td>\n      <td>09</td>\n      <td>1.31</td>\n    </tr>\n    <tr>\n      <th>240941</th>\n      <td>重庆市</td>\n      <td>县</td>\n      <td>忠县</td>\n      <td>2018</td>\n      <td>10</td>\n      <td>1.52</td>\n    </tr>\n    <tr>\n      <th>240942</th>\n      <td>重庆市</td>\n      <td>县</td>\n      <td>忠县</td>\n      <td>2018</td>\n      <td>11</td>\n      <td>2.04</td>\n    </tr>\n    <tr>\n      <th>240943</th>\n      <td>重庆市</td>\n      <td>县</td>\n      <td>忠县</td>\n      <td>2018</td>\n      <td>12</td>\n      <td>0.32</td>\n    </tr>\n  </tbody>\n</table>\n<p>31207 rows × 6 columns</p>\n</div>"
     },
     "execution_count": 45,
     "metadata": {},
     "output_type": "execute_result"
    }
   ],
   "source": [
    "new_df = df[(df['Year'] == 2018) | (df['Year'] == '2018') | (df['Year'].astype(np.int32) == 2018)]\n",
    "# df.head(20)n\n",
    "new_df"
   ],
   "metadata": {
    "collapsed": false
   }
  },
  {
   "cell_type": "code",
   "execution_count": 46,
   "outputs": [],
   "source": [
    "value = []\n",
    "for city in county:\n",
    "    v = np.sum(new_df[new_df['County'] == city].DNvalue)\n",
    "    value.append(v)"
   ],
   "metadata": {
    "collapsed": false
   }
  },
  {
   "cell_type": "code",
   "execution_count": 47,
   "outputs": [
    {
     "data": {
      "text/plain": "2801"
     },
     "execution_count": 47,
     "metadata": {},
     "output_type": "execute_result"
    }
   ],
   "source": [
    "len(value)"
   ],
   "metadata": {
    "collapsed": false
   }
  },
  {
   "cell_type": "code",
   "execution_count": 48,
   "outputs": [
    {
     "data": {
      "text/plain": "     County  2018_sum\n0       丁青县     10.82\n1      七星关区     45.04\n2       七星区     81.26\n3      七里河区     41.21\n4       万全区     10.75\n5       万宁市     15.04\n6       万安县      6.90\n7       万山区     48.01\n8       万州区     25.00\n9       万年县     14.21\n10     万柏林区    119.79\n11      万源市     13.46\n12      万秀区     22.88\n13      万荣县      6.30\n14      万载县     17.95\n15      三元区     22.74\n16      三原县     12.88\n17      三台县     19.17\n18      三山区     45.70\n19      三水区     58.39\n20  三江侗族自治县     10.09\n21      三河市     34.60\n22      三穗县     24.71\n23  三都水族自治县     22.80\n24      三门县     20.74\n25      上党区     24.58\n26      上城区    352.95\n27      上思县      9.02\n28      上杭县     14.08\n29      上林县     11.76",
      "text/html": "<div>\n<style scoped>\n    .dataframe tbody tr th:only-of-type {\n        vertical-align: middle;\n    }\n\n    .dataframe tbody tr th {\n        vertical-align: top;\n    }\n\n    .dataframe thead th {\n        text-align: right;\n    }\n</style>\n<table border=\"1\" class=\"dataframe\">\n  <thead>\n    <tr style=\"text-align: right;\">\n      <th></th>\n      <th>County</th>\n      <th>2018_sum</th>\n    </tr>\n  </thead>\n  <tbody>\n    <tr>\n      <th>0</th>\n      <td>丁青县</td>\n      <td>10.82</td>\n    </tr>\n    <tr>\n      <th>1</th>\n      <td>七星关区</td>\n      <td>45.04</td>\n    </tr>\n    <tr>\n      <th>2</th>\n      <td>七星区</td>\n      <td>81.26</td>\n    </tr>\n    <tr>\n      <th>3</th>\n      <td>七里河区</td>\n      <td>41.21</td>\n    </tr>\n    <tr>\n      <th>4</th>\n      <td>万全区</td>\n      <td>10.75</td>\n    </tr>\n    <tr>\n      <th>5</th>\n      <td>万宁市</td>\n      <td>15.04</td>\n    </tr>\n    <tr>\n      <th>6</th>\n      <td>万安县</td>\n      <td>6.90</td>\n    </tr>\n    <tr>\n      <th>7</th>\n      <td>万山区</td>\n      <td>48.01</td>\n    </tr>\n    <tr>\n      <th>8</th>\n      <td>万州区</td>\n      <td>25.00</td>\n    </tr>\n    <tr>\n      <th>9</th>\n      <td>万年县</td>\n      <td>14.21</td>\n    </tr>\n    <tr>\n      <th>10</th>\n      <td>万柏林区</td>\n      <td>119.79</td>\n    </tr>\n    <tr>\n      <th>11</th>\n      <td>万源市</td>\n      <td>13.46</td>\n    </tr>\n    <tr>\n      <th>12</th>\n      <td>万秀区</td>\n      <td>22.88</td>\n    </tr>\n    <tr>\n      <th>13</th>\n      <td>万荣县</td>\n      <td>6.30</td>\n    </tr>\n    <tr>\n      <th>14</th>\n      <td>万载县</td>\n      <td>17.95</td>\n    </tr>\n    <tr>\n      <th>15</th>\n      <td>三元区</td>\n      <td>22.74</td>\n    </tr>\n    <tr>\n      <th>16</th>\n      <td>三原县</td>\n      <td>12.88</td>\n    </tr>\n    <tr>\n      <th>17</th>\n      <td>三台县</td>\n      <td>19.17</td>\n    </tr>\n    <tr>\n      <th>18</th>\n      <td>三山区</td>\n      <td>45.70</td>\n    </tr>\n    <tr>\n      <th>19</th>\n      <td>三水区</td>\n      <td>58.39</td>\n    </tr>\n    <tr>\n      <th>20</th>\n      <td>三江侗族自治县</td>\n      <td>10.09</td>\n    </tr>\n    <tr>\n      <th>21</th>\n      <td>三河市</td>\n      <td>34.60</td>\n    </tr>\n    <tr>\n      <th>22</th>\n      <td>三穗县</td>\n      <td>24.71</td>\n    </tr>\n    <tr>\n      <th>23</th>\n      <td>三都水族自治县</td>\n      <td>22.80</td>\n    </tr>\n    <tr>\n      <th>24</th>\n      <td>三门县</td>\n      <td>20.74</td>\n    </tr>\n    <tr>\n      <th>25</th>\n      <td>上党区</td>\n      <td>24.58</td>\n    </tr>\n    <tr>\n      <th>26</th>\n      <td>上城区</td>\n      <td>352.95</td>\n    </tr>\n    <tr>\n      <th>27</th>\n      <td>上思县</td>\n      <td>9.02</td>\n    </tr>\n    <tr>\n      <th>28</th>\n      <td>上杭县</td>\n      <td>14.08</td>\n    </tr>\n    <tr>\n      <th>29</th>\n      <td>上林县</td>\n      <td>11.76</td>\n    </tr>\n  </tbody>\n</table>\n</div>"
     },
     "execution_count": 48,
     "metadata": {},
     "output_type": "execute_result"
    }
   ],
   "source": [
    "d = {\n",
    "    'County':pd.Series(county),\n",
    "    '2018_sum':pd.Series(value)\n",
    "}\n",
    "df2 = pd.DataFrame(d)\n",
    "df2.head(30)"
   ],
   "metadata": {
    "collapsed": false
   }
  },
  {
   "cell_type": "code",
   "execution_count": 49,
   "outputs": [
    {
     "name": "stdout",
     "output_type": "stream",
     "text": [
      "<class 'pandas.core.frame.DataFrame'>\n",
      "RangeIndex: 2801 entries, 0 to 2800\n",
      "Data columns (total 2 columns):\n",
      " #   Column    Non-Null Count  Dtype  \n",
      "---  ------    --------------  -----  \n",
      " 0   County    2801 non-null   object \n",
      " 1   2018_sum  2801 non-null   float64\n",
      "dtypes: float64(1), object(1)\n",
      "memory usage: 43.9+ KB\n"
     ]
    },
    {
     "data": {
      "text/plain": "       County  2018_sum\n0         丁青县     10.82\n1        七星关区     45.04\n2         七星区     81.26\n3        七里河区     41.21\n4         万全区     10.75\n...       ...       ...\n2796  龙胜各族自治县      8.08\n2797      龙里县     32.44\n2798      龙门县     12.08\n2799      龙陵县      7.93\n2800     龙马潭区     55.98\n\n[2801 rows x 2 columns]",
      "text/html": "<div>\n<style scoped>\n    .dataframe tbody tr th:only-of-type {\n        vertical-align: middle;\n    }\n\n    .dataframe tbody tr th {\n        vertical-align: top;\n    }\n\n    .dataframe thead th {\n        text-align: right;\n    }\n</style>\n<table border=\"1\" class=\"dataframe\">\n  <thead>\n    <tr style=\"text-align: right;\">\n      <th></th>\n      <th>County</th>\n      <th>2018_sum</th>\n    </tr>\n  </thead>\n  <tbody>\n    <tr>\n      <th>0</th>\n      <td>丁青县</td>\n      <td>10.82</td>\n    </tr>\n    <tr>\n      <th>1</th>\n      <td>七星关区</td>\n      <td>45.04</td>\n    </tr>\n    <tr>\n      <th>2</th>\n      <td>七星区</td>\n      <td>81.26</td>\n    </tr>\n    <tr>\n      <th>3</th>\n      <td>七里河区</td>\n      <td>41.21</td>\n    </tr>\n    <tr>\n      <th>4</th>\n      <td>万全区</td>\n      <td>10.75</td>\n    </tr>\n    <tr>\n      <th>...</th>\n      <td>...</td>\n      <td>...</td>\n    </tr>\n    <tr>\n      <th>2796</th>\n      <td>龙胜各族自治县</td>\n      <td>8.08</td>\n    </tr>\n    <tr>\n      <th>2797</th>\n      <td>龙里县</td>\n      <td>32.44</td>\n    </tr>\n    <tr>\n      <th>2798</th>\n      <td>龙门县</td>\n      <td>12.08</td>\n    </tr>\n    <tr>\n      <th>2799</th>\n      <td>龙陵县</td>\n      <td>7.93</td>\n    </tr>\n    <tr>\n      <th>2800</th>\n      <td>龙马潭区</td>\n      <td>55.98</td>\n    </tr>\n  </tbody>\n</table>\n<p>2801 rows × 2 columns</p>\n</div>"
     },
     "execution_count": 49,
     "metadata": {},
     "output_type": "execute_result"
    }
   ],
   "source": [
    "df2.info()\n",
    "df2"
   ],
   "metadata": {
    "collapsed": false
   }
  },
  {
   "cell_type": "code",
   "execution_count": 50,
   "outputs": [
    {
     "name": "stdout",
     "output_type": "stream",
     "text": [
      "<class 'pandas.core.frame.DataFrame'>\n",
      "RangeIndex: 240957 entries, 1 to 240957\n",
      "Data columns (total 6 columns):\n",
      " #   Column      Non-Null Count   Dtype  \n",
      "---  ------      --------------   -----  \n",
      " 0   Province    240957 non-null  object \n",
      " 1   Prefecture  240957 non-null  object \n",
      " 2   County      240957 non-null  object \n",
      " 3   Year        240957 non-null  object \n",
      " 4   Month       240957 non-null  object \n",
      " 5   DNvalue     240957 non-null  float64\n",
      "dtypes: float64(1), object(5)\n",
      "memory usage: 11.0+ MB\n"
     ]
    }
   ],
   "source": [
    "df.info()"
   ],
   "metadata": {
    "collapsed": false
   }
  },
  {
   "cell_type": "code",
   "execution_count": 51,
   "outputs": [
    {
     "name": "stdout",
     "output_type": "stream",
     "text": [
      "<class 'pandas.core.frame.DataFrame'>\n",
      "RangeIndex: 240957 entries, 1 to 240957\n",
      "Data columns (total 3 columns):\n",
      " #   Column      Non-Null Count   Dtype \n",
      "---  ------      --------------   ----- \n",
      " 0   Province    240957 non-null  object\n",
      " 1   Prefecture  240957 non-null  object\n",
      " 2   County      240957 non-null  object\n",
      "dtypes: object(3)\n",
      "memory usage: 5.5+ MB\n"
     ]
    }
   ],
   "source": [
    "li = df.drop(['Year','Month','DNvalue'],axis = 1)\n",
    "li.info()"
   ],
   "metadata": {
    "collapsed": false
   }
  },
  {
   "cell_type": "code",
   "execution_count": 52,
   "outputs": [
    {
     "data": {
      "text/plain": "     Province Prefecture County\n1         安徽省        安庆市    大观区\n86        安徽省        安庆市    怀宁县\n171       安徽省        安庆市    潜山市\n256       安徽省        安庆市    宿松县\n341       安徽省        安庆市    太湖县\n426       安徽省        安庆市    桐城市\n511       安徽省        安庆市    望江县\n596       安徽省        安庆市    宜秀区\n681       安徽省        安庆市    迎江区\n766       安徽省        安庆市    岳西县\n851       安徽省        蚌埠市    蚌山区\n936       安徽省        蚌埠市    固镇县\n1021      安徽省        蚌埠市    怀远县\n1106      安徽省        蚌埠市    淮上区\n1191      安徽省        蚌埠市   龙子湖区\n1276      安徽省        蚌埠市    五河县\n1361      安徽省        蚌埠市    禹会区\n1446      安徽省        亳州市    利辛县\n1531      安徽省        亳州市    蒙城县\n1616      安徽省        亳州市    谯城区",
      "text/html": "<div>\n<style scoped>\n    .dataframe tbody tr th:only-of-type {\n        vertical-align: middle;\n    }\n\n    .dataframe tbody tr th {\n        vertical-align: top;\n    }\n\n    .dataframe thead th {\n        text-align: right;\n    }\n</style>\n<table border=\"1\" class=\"dataframe\">\n  <thead>\n    <tr style=\"text-align: right;\">\n      <th></th>\n      <th>Province</th>\n      <th>Prefecture</th>\n      <th>County</th>\n    </tr>\n  </thead>\n  <tbody>\n    <tr>\n      <th>1</th>\n      <td>安徽省</td>\n      <td>安庆市</td>\n      <td>大观区</td>\n    </tr>\n    <tr>\n      <th>86</th>\n      <td>安徽省</td>\n      <td>安庆市</td>\n      <td>怀宁县</td>\n    </tr>\n    <tr>\n      <th>171</th>\n      <td>安徽省</td>\n      <td>安庆市</td>\n      <td>潜山市</td>\n    </tr>\n    <tr>\n      <th>256</th>\n      <td>安徽省</td>\n      <td>安庆市</td>\n      <td>宿松县</td>\n    </tr>\n    <tr>\n      <th>341</th>\n      <td>安徽省</td>\n      <td>安庆市</td>\n      <td>太湖县</td>\n    </tr>\n    <tr>\n      <th>426</th>\n      <td>安徽省</td>\n      <td>安庆市</td>\n      <td>桐城市</td>\n    </tr>\n    <tr>\n      <th>511</th>\n      <td>安徽省</td>\n      <td>安庆市</td>\n      <td>望江县</td>\n    </tr>\n    <tr>\n      <th>596</th>\n      <td>安徽省</td>\n      <td>安庆市</td>\n      <td>宜秀区</td>\n    </tr>\n    <tr>\n      <th>681</th>\n      <td>安徽省</td>\n      <td>安庆市</td>\n      <td>迎江区</td>\n    </tr>\n    <tr>\n      <th>766</th>\n      <td>安徽省</td>\n      <td>安庆市</td>\n      <td>岳西县</td>\n    </tr>\n    <tr>\n      <th>851</th>\n      <td>安徽省</td>\n      <td>蚌埠市</td>\n      <td>蚌山区</td>\n    </tr>\n    <tr>\n      <th>936</th>\n      <td>安徽省</td>\n      <td>蚌埠市</td>\n      <td>固镇县</td>\n    </tr>\n    <tr>\n      <th>1021</th>\n      <td>安徽省</td>\n      <td>蚌埠市</td>\n      <td>怀远县</td>\n    </tr>\n    <tr>\n      <th>1106</th>\n      <td>安徽省</td>\n      <td>蚌埠市</td>\n      <td>淮上区</td>\n    </tr>\n    <tr>\n      <th>1191</th>\n      <td>安徽省</td>\n      <td>蚌埠市</td>\n      <td>龙子湖区</td>\n    </tr>\n    <tr>\n      <th>1276</th>\n      <td>安徽省</td>\n      <td>蚌埠市</td>\n      <td>五河县</td>\n    </tr>\n    <tr>\n      <th>1361</th>\n      <td>安徽省</td>\n      <td>蚌埠市</td>\n      <td>禹会区</td>\n    </tr>\n    <tr>\n      <th>1446</th>\n      <td>安徽省</td>\n      <td>亳州市</td>\n      <td>利辛县</td>\n    </tr>\n    <tr>\n      <th>1531</th>\n      <td>安徽省</td>\n      <td>亳州市</td>\n      <td>蒙城县</td>\n    </tr>\n    <tr>\n      <th>1616</th>\n      <td>安徽省</td>\n      <td>亳州市</td>\n      <td>谯城区</td>\n    </tr>\n  </tbody>\n</table>\n</div>"
     },
     "execution_count": 52,
     "metadata": {},
     "output_type": "execute_result"
    }
   ],
   "source": [
    "li = li.drop_duplicates(subset=['County'])\n",
    "li.head(20)"
   ],
   "metadata": {
    "collapsed": false
   }
  },
  {
   "cell_type": "code",
   "execution_count": 53,
   "outputs": [
    {
     "data": {
      "text/plain": "   County  2018_sum\n0     丁青县     10.82\n1    七星关区     45.04\n2     七星区     81.26\n3    七里河区     41.21\n4     万全区     10.75\n5     万宁市     15.04\n6     万安县      6.90\n7     万山区     48.01\n8     万州区     25.00\n9     万年县     14.21\n10   万柏林区    119.79\n11    万源市     13.46\n12    万秀区     22.88\n13    万荣县      6.30\n14    万载县     17.95\n15    三元区     22.74\n16    三原县     12.88\n17    三台县     19.17\n18    三山区     45.70\n19    三水区     58.39",
      "text/html": "<div>\n<style scoped>\n    .dataframe tbody tr th:only-of-type {\n        vertical-align: middle;\n    }\n\n    .dataframe tbody tr th {\n        vertical-align: top;\n    }\n\n    .dataframe thead th {\n        text-align: right;\n    }\n</style>\n<table border=\"1\" class=\"dataframe\">\n  <thead>\n    <tr style=\"text-align: right;\">\n      <th></th>\n      <th>County</th>\n      <th>2018_sum</th>\n    </tr>\n  </thead>\n  <tbody>\n    <tr>\n      <th>0</th>\n      <td>丁青县</td>\n      <td>10.82</td>\n    </tr>\n    <tr>\n      <th>1</th>\n      <td>七星关区</td>\n      <td>45.04</td>\n    </tr>\n    <tr>\n      <th>2</th>\n      <td>七星区</td>\n      <td>81.26</td>\n    </tr>\n    <tr>\n      <th>3</th>\n      <td>七里河区</td>\n      <td>41.21</td>\n    </tr>\n    <tr>\n      <th>4</th>\n      <td>万全区</td>\n      <td>10.75</td>\n    </tr>\n    <tr>\n      <th>5</th>\n      <td>万宁市</td>\n      <td>15.04</td>\n    </tr>\n    <tr>\n      <th>6</th>\n      <td>万安县</td>\n      <td>6.90</td>\n    </tr>\n    <tr>\n      <th>7</th>\n      <td>万山区</td>\n      <td>48.01</td>\n    </tr>\n    <tr>\n      <th>8</th>\n      <td>万州区</td>\n      <td>25.00</td>\n    </tr>\n    <tr>\n      <th>9</th>\n      <td>万年县</td>\n      <td>14.21</td>\n    </tr>\n    <tr>\n      <th>10</th>\n      <td>万柏林区</td>\n      <td>119.79</td>\n    </tr>\n    <tr>\n      <th>11</th>\n      <td>万源市</td>\n      <td>13.46</td>\n    </tr>\n    <tr>\n      <th>12</th>\n      <td>万秀区</td>\n      <td>22.88</td>\n    </tr>\n    <tr>\n      <th>13</th>\n      <td>万荣县</td>\n      <td>6.30</td>\n    </tr>\n    <tr>\n      <th>14</th>\n      <td>万载县</td>\n      <td>17.95</td>\n    </tr>\n    <tr>\n      <th>15</th>\n      <td>三元区</td>\n      <td>22.74</td>\n    </tr>\n    <tr>\n      <th>16</th>\n      <td>三原县</td>\n      <td>12.88</td>\n    </tr>\n    <tr>\n      <th>17</th>\n      <td>三台县</td>\n      <td>19.17</td>\n    </tr>\n    <tr>\n      <th>18</th>\n      <td>三山区</td>\n      <td>45.70</td>\n    </tr>\n    <tr>\n      <th>19</th>\n      <td>三水区</td>\n      <td>58.39</td>\n    </tr>\n  </tbody>\n</table>\n</div>"
     },
     "execution_count": 53,
     "metadata": {},
     "output_type": "execute_result"
    }
   ],
   "source": [
    "df2.head(20)"
   ],
   "metadata": {
    "collapsed": false
   }
  },
  {
   "cell_type": "code",
   "execution_count": 54,
   "outputs": [],
   "source": [
    "# result = pd.concat([li,df2],axis  = 1,join_axes=[df2.County])"
   ],
   "metadata": {
    "collapsed": false
   }
  },
  {
   "cell_type": "code",
   "execution_count": 55,
   "outputs": [],
   "source": [
    "# df2.info()"
   ],
   "metadata": {
    "collapsed": false
   }
  },
  {
   "cell_type": "code",
   "execution_count": 56,
   "outputs": [
    {
     "data": {
      "text/plain": "     Province Prefecture      County  2018_sum\n0         安徽省        安庆市         大观区     48.23\n1         安徽省        安庆市         怀宁县     14.59\n2         安徽省        安庆市         潜山市     12.86\n3         安徽省        安庆市         宿松县     13.74\n4         安徽省        安庆市         太湖县     12.26\n...       ...        ...         ...       ...\n2795      重庆市          县         巫溪县      9.95\n2796      重庆市          县  秀山土家族苗族自治县     39.72\n2797      重庆市          县  酉阳土家族苗族自治县     12.69\n2798      重庆市          县         云阳县     12.65\n2799      重庆市          县          忠县     14.60\n\n[2800 rows x 4 columns]",
      "text/html": "<div>\n<style scoped>\n    .dataframe tbody tr th:only-of-type {\n        vertical-align: middle;\n    }\n\n    .dataframe tbody tr th {\n        vertical-align: top;\n    }\n\n    .dataframe thead th {\n        text-align: right;\n    }\n</style>\n<table border=\"1\" class=\"dataframe\">\n  <thead>\n    <tr style=\"text-align: right;\">\n      <th></th>\n      <th>Province</th>\n      <th>Prefecture</th>\n      <th>County</th>\n      <th>2018_sum</th>\n    </tr>\n  </thead>\n  <tbody>\n    <tr>\n      <th>0</th>\n      <td>安徽省</td>\n      <td>安庆市</td>\n      <td>大观区</td>\n      <td>48.23</td>\n    </tr>\n    <tr>\n      <th>1</th>\n      <td>安徽省</td>\n      <td>安庆市</td>\n      <td>怀宁县</td>\n      <td>14.59</td>\n    </tr>\n    <tr>\n      <th>2</th>\n      <td>安徽省</td>\n      <td>安庆市</td>\n      <td>潜山市</td>\n      <td>12.86</td>\n    </tr>\n    <tr>\n      <th>3</th>\n      <td>安徽省</td>\n      <td>安庆市</td>\n      <td>宿松县</td>\n      <td>13.74</td>\n    </tr>\n    <tr>\n      <th>4</th>\n      <td>安徽省</td>\n      <td>安庆市</td>\n      <td>太湖县</td>\n      <td>12.26</td>\n    </tr>\n    <tr>\n      <th>...</th>\n      <td>...</td>\n      <td>...</td>\n      <td>...</td>\n      <td>...</td>\n    </tr>\n    <tr>\n      <th>2795</th>\n      <td>重庆市</td>\n      <td>县</td>\n      <td>巫溪县</td>\n      <td>9.95</td>\n    </tr>\n    <tr>\n      <th>2796</th>\n      <td>重庆市</td>\n      <td>县</td>\n      <td>秀山土家族苗族自治县</td>\n      <td>39.72</td>\n    </tr>\n    <tr>\n      <th>2797</th>\n      <td>重庆市</td>\n      <td>县</td>\n      <td>酉阳土家族苗族自治县</td>\n      <td>12.69</td>\n    </tr>\n    <tr>\n      <th>2798</th>\n      <td>重庆市</td>\n      <td>县</td>\n      <td>云阳县</td>\n      <td>12.65</td>\n    </tr>\n    <tr>\n      <th>2799</th>\n      <td>重庆市</td>\n      <td>县</td>\n      <td>忠县</td>\n      <td>14.60</td>\n    </tr>\n  </tbody>\n</table>\n<p>2800 rows × 4 columns</p>\n</div>"
     },
     "execution_count": 56,
     "metadata": {},
     "output_type": "execute_result"
    }
   ],
   "source": [
    "new_df = pd.merge(li,df2,on = ['County'])\n",
    "new_df"
   ],
   "metadata": {
    "collapsed": false
   }
  },
  {
   "cell_type": "code",
   "execution_count": 57,
   "outputs": [
    {
     "name": "stdout",
     "output_type": "stream",
     "text": [
      "<class 'pandas.core.frame.DataFrame'>\n",
      "Int64Index: 2800 entries, 0 to 2799\n",
      "Data columns (total 4 columns):\n",
      " #   Column      Non-Null Count  Dtype  \n",
      "---  ------      --------------  -----  \n",
      " 0   Province    2800 non-null   object \n",
      " 1   Prefecture  2800 non-null   object \n",
      " 2   County      2800 non-null   object \n",
      " 3   2018_sum    2800 non-null   float64\n",
      "dtypes: float64(1), object(3)\n",
      "memory usage: 109.4+ KB\n"
     ]
    }
   ],
   "source": [
    "new_df.info()"
   ],
   "metadata": {
    "collapsed": false
   }
  },
  {
   "cell_type": "code",
   "execution_count": 58,
   "outputs": [],
   "source": [
    "citys = np.unique(new_df['Prefecture'])"
   ],
   "metadata": {
    "collapsed": false
   }
  },
  {
   "cell_type": "code",
   "execution_count": 59,
   "outputs": [],
   "source": [
    "values = []\n",
    "for city in citys:\n",
    "    # if city != '市辖区':\n",
    "    v = np.sum(new_df[(new_df['Prefecture'] == city)]['2018_sum'])\n",
    "    # else:\n",
    "\n",
    "    values.append(v)"
   ],
   "metadata": {
    "collapsed": false
   }
  },
  {
   "cell_type": "code",
   "execution_count": 60,
   "outputs": [
    {
     "data": {
      "text/plain": "[79.00999999999999,\n 15.040000000000001,\n 25.000000000000004,\n 136.44,\n 179.56,\n 153.25,\n 197.39999999999998,\n 166.53999999999996,\n 381.47,\n 26.5,\n 147.9,\n 38.06,\n 204.58999999999997,\n 106.98999999999998,\n 198.12,\n 629.15,\n 81.94,\n 15.6,\n 60.66999999999999,\n 182.94,\n 70.78999999999999,\n 122.84,\n 77.72,\n 650.77,\n 17.259999999999998,\n 219.77999999999997,\n 378.2,\n 84.67,\n 66.55,\n 10.82,\n 85.66999999999999,\n 117.16000000000001,\n 199.85,\n 547.7,\n 236.68,\n 6.84,\n 503.52000000000004,\n 46.46,\n 128.55,\n 91.89,\n 171.61,\n 143.25,\n 107.74000000000001,\n 594.22,\n 59.050000000000004,\n 98.65,\n 179.02,\n 194.82,\n 222.21,\n 41.22,\n 85.39999999999999,\n 123.15,\n 1542.7600000000002,\n 428.34000000000003,\n 408.23,\n 124.05000000000001,\n 18.05,\n 171.32,\n 447.95000000000005,\n 1078.3999999999999,\n 609.48,\n 143.82999999999998,\n 77.19,\n 1613.0499999999997,\n 201.73999999999998,\n 349.2900000000001,\n 515.13,\n 26.139999999999997,\n 856.3599999999999,\n 261.03999999999996,\n 161.19,\n 48.13,\n 149.82999999999998,\n 72.75999999999999,\n 170.64000000000001,\n 97.39999999999999,\n 775.5200000000001,\n 142.56,\n 101.02,\n 520.47,\n 57.89,\n 598.3399999999998,\n 616.1,\n 143.02,\n 63.49,\n 185.67,\n 463.45000000000005,\n 233.70000000000002,\n 430.93000000000006,\n 72.99000000000001,\n 51.79,\n 70.38,\n 16.19,\n 297.92,\n 256.39,\n 128.04000000000002,\n 113.38,\n 31.47,\n 1161.5700000000002,\n 66.24,\n 841.2,\n 101.28999999999999,\n 101.96,\n 76.76,\n 99.47,\n 191.89000000000004,\n 19.04,\n 1045.7699999999998,\n 236.13000000000002,\n 133.49,\n 355.2,\n 205.26999999999998,\n 12.06,\n 59.220000000000006,\n 220.67999999999998,\n 460.75999999999993,\n 185.2,\n 19.439999999999998,\n 249.07999999999996,\n 104.22999999999999,\n 67.28,\n 114.34,\n 19.78,\n 8.93,\n 139.4,\n 192.03,\n 75.62,\n 30.18,\n 98.96000000000001,\n 45.85,\n 63.41,\n 136.69000000000003,\n 629.76,\n 264.8,\n 76.66,\n 21.66,\n 246.20999999999998,\n 94.23,\n 170.33,\n 2065.8700000000003,\n 139.21,\n 312.88,\n 186.42,\n 15.74,\n 99.45,\n 285.04999999999995,\n 18.16,\n 174.26,\n 57.97,\n 50.88,\n 513.13,\n 438.6500000000001,\n 56.24,\n 165.95,\n 171.27999999999997,\n 127.03,\n 227.74,\n 33.08,\n 33.08,\n 149.76,\n 198.74,\n 2335.94,\n 38.05,\n 284.46,\n 137.16000000000003,\n 199.43,\n 195.87,\n 103.92999999999999,\n 221.86,\n 104.86,\n 147.3,\n 460.7199999999999,\n 38.0,\n 1104.4,\n 178.74,\n 95.32,\n 612.4499999999999,\n 122.78,\n 50.21000000000001,\n 12.200000000000001,\n 208.84,\n 246.36,\n 178.26000000000002,\n 55.75,\n 138.71,\n 455.3,\n 164.36,\n 172.98,\n 72.23,\n 364.19,\n 76.62,\n 162.91000000000003,\n 49.35000000000001,\n 362.23999999999995,\n 2147.46,\n 54.15,\n 169.89000000000001,\n 69.55,\n 86.52,\n 93.61,\n 460.45,\n 309.32000000000005,\n 511.57,\n 16.82,\n 122.80000000000001,\n 108.53,\n 176.2,\n 175.40999999999997,\n 49.43,\n 2368.89,\n 31.35,\n 11.580000000000002,\n 176.43,\n 26.32,\n 148.79999999999998,\n 193.63000000000002,\n 731.87,\n 449.3299999999999,\n 42.76,\n 325.79,\n 49.91,\n 2179.12,\n 111.42999999999999,\n 595.17,\n 337.65,\n 178.42000000000002,\n 128.72,\n 416.45000000000005,\n 1146.1299999999999,\n 136.71,\n 376.85999999999996,\n 217.63,\n 734.36,\n 116.18,\n 859.2399999999998,\n 212.13000000000002,\n 267.21,\n 132.58,\n 31.020000000000003,\n 57.94,\n 166.91000000000003,\n 164.28999999999996,\n 87.47999999999999,\n 22.150000000000002,\n 273.61,\n 166.19,\n 236.02,\n 221.89000000000001,\n 2329.1800000000003,\n 116.34,\n 310.49,\n 100.81,\n 721.76,\n 162.83,\n 186.71,\n 220.29000000000002,\n 225.86,\n 489.3,\n 259.76,\n 136.8,\n 81.44999999999999,\n 146.23,\n 462.78,\n 470.89,\n 129.49,\n 41.34,\n 19.259999999999998,\n 173.45999999999998,\n 359.51,\n 302.08000000000004,\n 188.36,\n 145.06,\n 124.63,\n 172.44,\n 265.56,\n 8.66,\n 13.43,\n 28.61,\n 103.11999999999999,\n 324.43,\n 62.18000000000001,\n 43.61,\n 8.71,\n 60.540000000000006,\n 201.89,\n 113.78,\n 258.48999999999995,\n 316.71,\n 40.53,\n 116.00999999999999,\n 72.9,\n 1234.1999999999998,\n 161.97,\n 2168.09,\n 198.66000000000003,\n 22.03,\n 392.51,\n 217.44,\n 272.2,\n 54.09000000000001,\n 227.58,\n 127.38,\n 227.82999999999998,\n 163.73999999999998,\n 189.87000000000003,\n 281.6,\n 1789.5099999999998,\n 111.14999999999999,\n 159.01999999999998,\n 95.46000000000002,\n 25.229999999999997,\n 274.25,\n 137.37,\n 100.19999999999997,\n 358.09000000000003,\n 158.46,\n 16.39,\n 451.43,\n 428.75,\n 120.76,\n 339.15,\n 125.47,\n 137.7,\n 37.79,\n 364.19,\n 538.87,\n 2132.3799999999997,\n 123.44000000000001,\n 222.53,\n 68.32,\n 605.73,\n 61.64000000000001,\n 74.71,\n 329.18,\n 159.1,\n 61.519999999999996,\n 734.05,\n 202.64999999999998,\n 155.6,\n 263.23,\n 37.17,\n 87.39999999999999,\n 127.10000000000001,\n 68.76,\n 128.09,\n 554.25,\n 387.87000000000006,\n 166.23999999999998,\n 318.77,\n 254.44,\n 1204.9999999999998,\n 106.38,\n 133.33,\n 74.60000000000001,\n 83.07,\n 390.43,\n 98.82000000000001,\n 29.669999999999995,\n 56.46,\n 97.03999999999999,\n 328.94,\n 58.8,\n 26.82,\n 231.65,\n 367.64,\n 116.09,\n 313.93,\n 518.65,\n 508.7700000000001,\n 32.86,\n 398.47,\n 974.47,\n 280.15000000000003,\n 33.69,\n 322.23,\n 150.88,\n 222.66,\n 72.39,\n 87.50999999999999,\n 184.72,\n 173.2,\n 82.48,\n 216.69000000000003,\n 46.19,\n 96.96,\n 74.53999999999999,\n 22.21,\n 33.36,\n 176.71,\n 1253.3799999999999,\n 137.63,\n 482.5,\n 25.15,\n 169.45,\n 148.25,\n 74.34,\n 327.32,\n 158.46999999999997,\n 81.63,\n 117.25999999999999,\n 512.1400000000001,\n 75.72,\n 156.15999999999997,\n 107.19999999999999,\n 73.87,\n 788.15,\n 315.07,\n 32.99,\n 377.07,\n 374.44,\n 28.71,\n 150.07999999999998,\n 295.53,\n 143.68]"
     },
     "execution_count": 60,
     "metadata": {},
     "output_type": "execute_result"
    }
   ],
   "source": [
    "values"
   ],
   "metadata": {
    "collapsed": false
   }
  },
  {
   "cell_type": "code",
   "execution_count": 61,
   "outputs": [
    {
     "name": "stdout",
     "output_type": "stream",
     "text": [
      "<class 'pandas.core.frame.DataFrame'>\n",
      "RangeIndex: 414 entries, 0 to 413\n",
      "Data columns (total 2 columns):\n",
      " #   Column      Non-Null Count  Dtype  \n",
      "---  ------      --------------  -----  \n",
      " 0   Prefecture  414 non-null    object \n",
      " 1   value       414 non-null    float64\n",
      "dtypes: float64(1), object(1)\n",
      "memory usage: 6.6+ KB\n"
     ]
    }
   ],
   "source": [
    "d = {\n",
    "    'Prefecture':pd.Series(citys),\n",
    "    'value':pd.Series(values)\n",
    "}\n",
    "df = pd.DataFrame(d)\n",
    "df.info()"
   ],
   "metadata": {
    "collapsed": false
   }
  },
  {
   "cell_type": "code",
   "execution_count": 62,
   "outputs": [
    {
     "data": {
      "text/plain": "  Province Prefecture County  2018_sum\n0      安徽省        安庆市    大观区     48.23\n1      安徽省        安庆市    怀宁县     14.59\n2      安徽省        安庆市    潜山市     12.86\n3      安徽省        安庆市    宿松县     13.74\n4      安徽省        安庆市    太湖县     12.26",
      "text/html": "<div>\n<style scoped>\n    .dataframe tbody tr th:only-of-type {\n        vertical-align: middle;\n    }\n\n    .dataframe tbody tr th {\n        vertical-align: top;\n    }\n\n    .dataframe thead th {\n        text-align: right;\n    }\n</style>\n<table border=\"1\" class=\"dataframe\">\n  <thead>\n    <tr style=\"text-align: right;\">\n      <th></th>\n      <th>Province</th>\n      <th>Prefecture</th>\n      <th>County</th>\n      <th>2018_sum</th>\n    </tr>\n  </thead>\n  <tbody>\n    <tr>\n      <th>0</th>\n      <td>安徽省</td>\n      <td>安庆市</td>\n      <td>大观区</td>\n      <td>48.23</td>\n    </tr>\n    <tr>\n      <th>1</th>\n      <td>安徽省</td>\n      <td>安庆市</td>\n      <td>怀宁县</td>\n      <td>14.59</td>\n    </tr>\n    <tr>\n      <th>2</th>\n      <td>安徽省</td>\n      <td>安庆市</td>\n      <td>潜山市</td>\n      <td>12.86</td>\n    </tr>\n    <tr>\n      <th>3</th>\n      <td>安徽省</td>\n      <td>安庆市</td>\n      <td>宿松县</td>\n      <td>13.74</td>\n    </tr>\n    <tr>\n      <th>4</th>\n      <td>安徽省</td>\n      <td>安庆市</td>\n      <td>太湖县</td>\n      <td>12.26</td>\n    </tr>\n  </tbody>\n</table>\n</div>"
     },
     "execution_count": 62,
     "metadata": {},
     "output_type": "execute_result"
    }
   ],
   "source": [
    "new_df.head()"
   ],
   "metadata": {
    "collapsed": false
   }
  },
  {
   "cell_type": "code",
   "execution_count": 63,
   "outputs": [
    {
     "name": "stdout",
     "output_type": "stream",
     "text": [
      "<class 'pandas.core.frame.DataFrame'>\n",
      "RangeIndex: 414 entries, 0 to 413\n",
      "Data columns (total 2 columns):\n",
      " #   Column      Non-Null Count  Dtype  \n",
      "---  ------      --------------  -----  \n",
      " 0   Prefecture  414 non-null    object \n",
      " 1   value       414 non-null    float64\n",
      "dtypes: float64(1), object(1)\n",
      "memory usage: 6.6+ KB\n"
     ]
    }
   ],
   "source": [
    "# df.head(50)\n",
    "df.info()"
   ],
   "metadata": {
    "collapsed": false
   }
  },
  {
   "cell_type": "code",
   "execution_count": 64,
   "outputs": [
    {
     "data": {
      "text/plain": "  Province Prefecture County  Year Month DNvalue\n0     省份名称       城市名称   县区名称    年度    月份    DN均值\n1      安徽省        安庆市    大观区  2013    01    2.81\n2      安徽省        安庆市    大观区  2013    02    2.06\n3      安徽省        安庆市    大观区  2013    03    2.17\n4      安徽省        安庆市    大观区  2013    04    2.63",
      "text/html": "<div>\n<style scoped>\n    .dataframe tbody tr th:only-of-type {\n        vertical-align: middle;\n    }\n\n    .dataframe tbody tr th {\n        vertical-align: top;\n    }\n\n    .dataframe thead th {\n        text-align: right;\n    }\n</style>\n<table border=\"1\" class=\"dataframe\">\n  <thead>\n    <tr style=\"text-align: right;\">\n      <th></th>\n      <th>Province</th>\n      <th>Prefecture</th>\n      <th>County</th>\n      <th>Year</th>\n      <th>Month</th>\n      <th>DNvalue</th>\n    </tr>\n  </thead>\n  <tbody>\n    <tr>\n      <th>0</th>\n      <td>省份名称</td>\n      <td>城市名称</td>\n      <td>县区名称</td>\n      <td>年度</td>\n      <td>月份</td>\n      <td>DN均值</td>\n    </tr>\n    <tr>\n      <th>1</th>\n      <td>安徽省</td>\n      <td>安庆市</td>\n      <td>大观区</td>\n      <td>2013</td>\n      <td>01</td>\n      <td>2.81</td>\n    </tr>\n    <tr>\n      <th>2</th>\n      <td>安徽省</td>\n      <td>安庆市</td>\n      <td>大观区</td>\n      <td>2013</td>\n      <td>02</td>\n      <td>2.06</td>\n    </tr>\n    <tr>\n      <th>3</th>\n      <td>安徽省</td>\n      <td>安庆市</td>\n      <td>大观区</td>\n      <td>2013</td>\n      <td>03</td>\n      <td>2.17</td>\n    </tr>\n    <tr>\n      <th>4</th>\n      <td>安徽省</td>\n      <td>安庆市</td>\n      <td>大观区</td>\n      <td>2013</td>\n      <td>04</td>\n      <td>2.63</td>\n    </tr>\n  </tbody>\n</table>\n</div>"
     },
     "execution_count": 64,
     "metadata": {},
     "output_type": "execute_result"
    }
   ],
   "source": [
    "origin_df = pd.read_excel(r\"D:\\documents\\VIIRS中国各县区灯光数据.xlsx\")\n",
    "origin_df.head()"
   ],
   "metadata": {
    "collapsed": false
   }
  },
  {
   "cell_type": "code",
   "execution_count": 65,
   "outputs": [
    {
     "name": "stdout",
     "output_type": "stream",
     "text": [
      "<class 'pandas.core.frame.DataFrame'>\n",
      "RangeIndex: 240957 entries, 1 to 240957\n",
      "Data columns (total 2 columns):\n",
      " #   Column      Non-Null Count   Dtype \n",
      "---  ------      --------------   ----- \n",
      " 0   Province    240957 non-null  object\n",
      " 1   Prefecture  240957 non-null  object\n",
      "dtypes: object(2)\n",
      "memory usage: 3.7+ MB\n"
     ]
    }
   ],
   "source": [
    "origin_df = origin_df.drop([0],axis=0)\n",
    "origin_df = origin_df.drop(['County','Year','DNvalue','Month'],axis = 1)\n",
    "origin_df.info()"
   ],
   "metadata": {
    "collapsed": false
   }
  },
  {
   "cell_type": "code",
   "execution_count": 66,
   "outputs": [],
   "source": [
    "origin_df = origin_df.drop_duplicates()"
   ],
   "metadata": {
    "collapsed": false
   }
  },
  {
   "cell_type": "code",
   "execution_count": 67,
   "outputs": [
    {
     "data": {
      "text/plain": "       Province Prefecture\n1           安徽省        安庆市\n851         安徽省        蚌埠市\n1446        安徽省        亳州市\n1786        安徽省        池州市\n2125        安徽省        滁州市\n...         ...        ...\n239599      重庆市        武隆区\n239684      重庆市        永川区\n239769      重庆市        渝北区\n239854      重庆市        渝中区\n239938      重庆市          县\n\n[419 rows x 2 columns]",
      "text/html": "<div>\n<style scoped>\n    .dataframe tbody tr th:only-of-type {\n        vertical-align: middle;\n    }\n\n    .dataframe tbody tr th {\n        vertical-align: top;\n    }\n\n    .dataframe thead th {\n        text-align: right;\n    }\n</style>\n<table border=\"1\" class=\"dataframe\">\n  <thead>\n    <tr style=\"text-align: right;\">\n      <th></th>\n      <th>Province</th>\n      <th>Prefecture</th>\n    </tr>\n  </thead>\n  <tbody>\n    <tr>\n      <th>1</th>\n      <td>安徽省</td>\n      <td>安庆市</td>\n    </tr>\n    <tr>\n      <th>851</th>\n      <td>安徽省</td>\n      <td>蚌埠市</td>\n    </tr>\n    <tr>\n      <th>1446</th>\n      <td>安徽省</td>\n      <td>亳州市</td>\n    </tr>\n    <tr>\n      <th>1786</th>\n      <td>安徽省</td>\n      <td>池州市</td>\n    </tr>\n    <tr>\n      <th>2125</th>\n      <td>安徽省</td>\n      <td>滁州市</td>\n    </tr>\n    <tr>\n      <th>...</th>\n      <td>...</td>\n      <td>...</td>\n    </tr>\n    <tr>\n      <th>239599</th>\n      <td>重庆市</td>\n      <td>武隆区</td>\n    </tr>\n    <tr>\n      <th>239684</th>\n      <td>重庆市</td>\n      <td>永川区</td>\n    </tr>\n    <tr>\n      <th>239769</th>\n      <td>重庆市</td>\n      <td>渝北区</td>\n    </tr>\n    <tr>\n      <th>239854</th>\n      <td>重庆市</td>\n      <td>渝中区</td>\n    </tr>\n    <tr>\n      <th>239938</th>\n      <td>重庆市</td>\n      <td>县</td>\n    </tr>\n  </tbody>\n</table>\n<p>419 rows × 2 columns</p>\n</div>"
     },
     "execution_count": 67,
     "metadata": {},
     "output_type": "execute_result"
    }
   ],
   "source": [
    "origin_df"
   ],
   "metadata": {
    "collapsed": false
   }
  },
  {
   "cell_type": "code",
   "execution_count": 68,
   "outputs": [
    {
     "data": {
      "text/plain": "    Province Prefecture   value\n0        安徽省        安庆市  236.13\n1        安徽省        蚌埠市  428.75\n2        安徽省        亳州市   85.67\n3        安徽省        池州市   49.91\n4        安徽省        滁州市  259.76\n..       ...        ...     ...\n410      重庆市        武隆区   11.58\n411      重庆市        永川区   26.32\n412      重庆市        渝北区  100.81\n413      重庆市        渝中区  310.49\n414      重庆市          县  201.74\n\n[415 rows x 3 columns]",
      "text/html": "<div>\n<style scoped>\n    .dataframe tbody tr th:only-of-type {\n        vertical-align: middle;\n    }\n\n    .dataframe tbody tr th {\n        vertical-align: top;\n    }\n\n    .dataframe thead th {\n        text-align: right;\n    }\n</style>\n<table border=\"1\" class=\"dataframe\">\n  <thead>\n    <tr style=\"text-align: right;\">\n      <th></th>\n      <th>Province</th>\n      <th>Prefecture</th>\n      <th>value</th>\n    </tr>\n  </thead>\n  <tbody>\n    <tr>\n      <th>0</th>\n      <td>安徽省</td>\n      <td>安庆市</td>\n      <td>236.13</td>\n    </tr>\n    <tr>\n      <th>1</th>\n      <td>安徽省</td>\n      <td>蚌埠市</td>\n      <td>428.75</td>\n    </tr>\n    <tr>\n      <th>2</th>\n      <td>安徽省</td>\n      <td>亳州市</td>\n      <td>85.67</td>\n    </tr>\n    <tr>\n      <th>3</th>\n      <td>安徽省</td>\n      <td>池州市</td>\n      <td>49.91</td>\n    </tr>\n    <tr>\n      <th>4</th>\n      <td>安徽省</td>\n      <td>滁州市</td>\n      <td>259.76</td>\n    </tr>\n    <tr>\n      <th>...</th>\n      <td>...</td>\n      <td>...</td>\n      <td>...</td>\n    </tr>\n    <tr>\n      <th>410</th>\n      <td>重庆市</td>\n      <td>武隆区</td>\n      <td>11.58</td>\n    </tr>\n    <tr>\n      <th>411</th>\n      <td>重庆市</td>\n      <td>永川区</td>\n      <td>26.32</td>\n    </tr>\n    <tr>\n      <th>412</th>\n      <td>重庆市</td>\n      <td>渝北区</td>\n      <td>100.81</td>\n    </tr>\n    <tr>\n      <th>413</th>\n      <td>重庆市</td>\n      <td>渝中区</td>\n      <td>310.49</td>\n    </tr>\n    <tr>\n      <th>414</th>\n      <td>重庆市</td>\n      <td>县</td>\n      <td>201.74</td>\n    </tr>\n  </tbody>\n</table>\n<p>415 rows × 3 columns</p>\n</div>"
     },
     "execution_count": 68,
     "metadata": {},
     "output_type": "execute_result"
    }
   ],
   "source": [
    "final_final_data = pd.merge(origin_df,df,on = ['Prefecture'])\n",
    "final_final_data"
   ],
   "metadata": {
    "collapsed": false
   }
  },
  {
   "cell_type": "code",
   "execution_count": 69,
   "outputs": [
    {
     "data": {
      "text/plain": "    Province Prefecture   value\n0        安徽省        安庆市  236.13\n1        安徽省        蚌埠市  428.75\n2        安徽省        亳州市   85.67\n3        安徽省        池州市   49.91\n4        安徽省        滁州市  259.76\n..       ...        ...     ...\n410      重庆市        武隆区   11.58\n411      重庆市        永川区   26.32\n412      重庆市        渝北区  100.81\n413      重庆市        渝中区  310.49\n414      重庆市          县  201.74\n\n[415 rows x 3 columns]",
      "text/html": "<div>\n<style scoped>\n    .dataframe tbody tr th:only-of-type {\n        vertical-align: middle;\n    }\n\n    .dataframe tbody tr th {\n        vertical-align: top;\n    }\n\n    .dataframe thead th {\n        text-align: right;\n    }\n</style>\n<table border=\"1\" class=\"dataframe\">\n  <thead>\n    <tr style=\"text-align: right;\">\n      <th></th>\n      <th>Province</th>\n      <th>Prefecture</th>\n      <th>value</th>\n    </tr>\n  </thead>\n  <tbody>\n    <tr>\n      <th>0</th>\n      <td>安徽省</td>\n      <td>安庆市</td>\n      <td>236.13</td>\n    </tr>\n    <tr>\n      <th>1</th>\n      <td>安徽省</td>\n      <td>蚌埠市</td>\n      <td>428.75</td>\n    </tr>\n    <tr>\n      <th>2</th>\n      <td>安徽省</td>\n      <td>亳州市</td>\n      <td>85.67</td>\n    </tr>\n    <tr>\n      <th>3</th>\n      <td>安徽省</td>\n      <td>池州市</td>\n      <td>49.91</td>\n    </tr>\n    <tr>\n      <th>4</th>\n      <td>安徽省</td>\n      <td>滁州市</td>\n      <td>259.76</td>\n    </tr>\n    <tr>\n      <th>...</th>\n      <td>...</td>\n      <td>...</td>\n      <td>...</td>\n    </tr>\n    <tr>\n      <th>410</th>\n      <td>重庆市</td>\n      <td>武隆区</td>\n      <td>11.58</td>\n    </tr>\n    <tr>\n      <th>411</th>\n      <td>重庆市</td>\n      <td>永川区</td>\n      <td>26.32</td>\n    </tr>\n    <tr>\n      <th>412</th>\n      <td>重庆市</td>\n      <td>渝北区</td>\n      <td>100.81</td>\n    </tr>\n    <tr>\n      <th>413</th>\n      <td>重庆市</td>\n      <td>渝中区</td>\n      <td>310.49</td>\n    </tr>\n    <tr>\n      <th>414</th>\n      <td>重庆市</td>\n      <td>县</td>\n      <td>201.74</td>\n    </tr>\n  </tbody>\n</table>\n<p>415 rows × 3 columns</p>\n</div>"
     },
     "execution_count": 69,
     "metadata": {},
     "output_type": "execute_result"
    }
   ],
   "source": [
    "final_final_data.dropna()\n",
    "# final_final_data"
   ],
   "metadata": {
    "collapsed": false
   }
  },
  {
   "cell_type": "code",
   "execution_count": 70,
   "outputs": [],
   "source": [
    "final_final_data.to_excel(r'D:\\pycharm-python\\datasets\\final_final_cities_DNvalue.xlsx')"
   ],
   "metadata": {
    "collapsed": false
   }
  },
  {
   "cell_type": "code",
   "execution_count": 70,
   "outputs": [],
   "source": [],
   "metadata": {
    "collapsed": false
   }
  }
 ],
 "metadata": {
  "kernelspec": {
   "display_name": "Python 3",
   "language": "python",
   "name": "python3"
  },
  "language_info": {
   "codemirror_mode": {
    "name": "ipython",
    "version": 2
   },
   "file_extension": ".py",
   "mimetype": "text/x-python",
   "name": "python",
   "nbconvert_exporter": "python",
   "pygments_lexer": "ipython2",
   "version": "2.7.6"
  }
 },
 "nbformat": 4,
 "nbformat_minor": 0
}
